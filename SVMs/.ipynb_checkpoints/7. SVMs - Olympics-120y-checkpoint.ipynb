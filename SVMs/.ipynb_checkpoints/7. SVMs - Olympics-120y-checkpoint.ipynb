{
 "cells": [
  {
   "cell_type": "code",
   "execution_count": 1,
   "metadata": {},
   "outputs": [
    {
     "name": "stderr",
     "output_type": "stream",
     "text": [
      "/anaconda3/lib/python3.6/importlib/_bootstrap.py:219: RuntimeWarning: numpy.dtype size changed, may indicate binary incompatibility. Expected 96, got 88\n",
      "  return f(*args, **kwds)\n",
      "/anaconda3/lib/python3.6/importlib/_bootstrap.py:219: RuntimeWarning: numpy.dtype size changed, may indicate binary incompatibility. Expected 96, got 88\n",
      "  return f(*args, **kwds)\n",
      "/anaconda3/lib/python3.6/importlib/_bootstrap.py:219: RuntimeWarning: numpy.dtype size changed, may indicate binary incompatibility. Expected 96, got 88\n",
      "  return f(*args, **kwds)\n",
      "/anaconda3/lib/python3.6/importlib/_bootstrap.py:219: RuntimeWarning: numpy.dtype size changed, may indicate binary incompatibility. Expected 96, got 88\n",
      "  return f(*args, **kwds)\n",
      "/anaconda3/lib/python3.6/importlib/_bootstrap.py:219: RuntimeWarning: numpy.dtype size changed, may indicate binary incompatibility. Expected 96, got 88\n",
      "  return f(*args, **kwds)\n",
      "/anaconda3/lib/python3.6/importlib/_bootstrap.py:219: RuntimeWarning: numpy.dtype size changed, may indicate binary incompatibility. Expected 96, got 88\n",
      "  return f(*args, **kwds)\n"
     ]
    }
   ],
   "source": [
    "import numpy as np\n",
    "import pandas as pd\n",
    "import matplotlib.pyplot as plt\n",
    "from matplotlib.colors import ListedColormap\n",
    "import warnings\n",
    "%matplotlib inline\n",
    "import seaborn as sb\n",
    "\n",
    "from sklearn.preprocessing import StandardScaler\n",
    "from sklearn.preprocessing import LabelEncoder\n",
    "from sklearn.model_selection import train_test_split\n",
    "from sklearn.metrics import accuracy_score\n",
    "from sklearn.model_selection import GridSearchCV"
   ]
  },
  {
   "cell_type": "code",
   "execution_count": 2,
   "metadata": {},
   "outputs": [
    {
     "data": {
      "text/html": [
       "<div>\n",
       "<style scoped>\n",
       "    .dataframe tbody tr th:only-of-type {\n",
       "        vertical-align: middle;\n",
       "    }\n",
       "\n",
       "    .dataframe tbody tr th {\n",
       "        vertical-align: top;\n",
       "    }\n",
       "\n",
       "    .dataframe thead th {\n",
       "        text-align: right;\n",
       "    }\n",
       "</style>\n",
       "<table border=\"1\" class=\"dataframe\">\n",
       "  <thead>\n",
       "    <tr style=\"text-align: right;\">\n",
       "      <th></th>\n",
       "      <th>ID</th>\n",
       "      <th>Name</th>\n",
       "      <th>Sex</th>\n",
       "      <th>Age</th>\n",
       "      <th>Height</th>\n",
       "      <th>Weight</th>\n",
       "      <th>Team</th>\n",
       "      <th>NOC</th>\n",
       "      <th>Year</th>\n",
       "      <th>Season</th>\n",
       "      <th>City</th>\n",
       "      <th>Sport</th>\n",
       "      <th>Event</th>\n",
       "      <th>Medal</th>\n",
       "      <th>Region</th>\n",
       "    </tr>\n",
       "  </thead>\n",
       "  <tbody>\n",
       "    <tr>\n",
       "      <th>0</th>\n",
       "      <td>1</td>\n",
       "      <td>A Dijiang</td>\n",
       "      <td>M</td>\n",
       "      <td>24.0</td>\n",
       "      <td>180.0</td>\n",
       "      <td>80.0</td>\n",
       "      <td>China</td>\n",
       "      <td>CHN</td>\n",
       "      <td>1992</td>\n",
       "      <td>Summer</td>\n",
       "      <td>Barcelona</td>\n",
       "      <td>Basketball</td>\n",
       "      <td>Basketball Men's Basketball</td>\n",
       "      <td>None</td>\n",
       "      <td>China</td>\n",
       "    </tr>\n",
       "    <tr>\n",
       "      <th>1</th>\n",
       "      <td>2</td>\n",
       "      <td>A Lamusi</td>\n",
       "      <td>M</td>\n",
       "      <td>23.0</td>\n",
       "      <td>170.0</td>\n",
       "      <td>60.0</td>\n",
       "      <td>China</td>\n",
       "      <td>CHN</td>\n",
       "      <td>2012</td>\n",
       "      <td>Summer</td>\n",
       "      <td>London</td>\n",
       "      <td>Judo</td>\n",
       "      <td>Judo Men's Extra-Lightweight</td>\n",
       "      <td>None</td>\n",
       "      <td>China</td>\n",
       "    </tr>\n",
       "    <tr>\n",
       "      <th>2</th>\n",
       "      <td>602</td>\n",
       "      <td>Abudoureheman</td>\n",
       "      <td>M</td>\n",
       "      <td>22.0</td>\n",
       "      <td>182.0</td>\n",
       "      <td>75.0</td>\n",
       "      <td>China</td>\n",
       "      <td>CHN</td>\n",
       "      <td>2000</td>\n",
       "      <td>Summer</td>\n",
       "      <td>Sydney</td>\n",
       "      <td>Boxing</td>\n",
       "      <td>Boxing Men's Middleweight</td>\n",
       "      <td>None</td>\n",
       "      <td>China</td>\n",
       "    </tr>\n",
       "    <tr>\n",
       "      <th>3</th>\n",
       "      <td>1463</td>\n",
       "      <td>Ai Linuer</td>\n",
       "      <td>M</td>\n",
       "      <td>25.0</td>\n",
       "      <td>160.0</td>\n",
       "      <td>62.0</td>\n",
       "      <td>China</td>\n",
       "      <td>CHN</td>\n",
       "      <td>2004</td>\n",
       "      <td>Summer</td>\n",
       "      <td>Athina</td>\n",
       "      <td>Wrestling</td>\n",
       "      <td>Wrestling Men's Lightweight, Greco-Roman</td>\n",
       "      <td>None</td>\n",
       "      <td>China</td>\n",
       "    </tr>\n",
       "    <tr>\n",
       "      <th>4</th>\n",
       "      <td>1464</td>\n",
       "      <td>Ai Yanhan</td>\n",
       "      <td>F</td>\n",
       "      <td>14.0</td>\n",
       "      <td>168.0</td>\n",
       "      <td>54.0</td>\n",
       "      <td>China</td>\n",
       "      <td>CHN</td>\n",
       "      <td>2016</td>\n",
       "      <td>Summer</td>\n",
       "      <td>Rio de Janeiro</td>\n",
       "      <td>Swimming</td>\n",
       "      <td>Swimming Women's 200 metres Freestyle</td>\n",
       "      <td>None</td>\n",
       "      <td>China</td>\n",
       "    </tr>\n",
       "  </tbody>\n",
       "</table>\n",
       "</div>"
      ],
      "text/plain": [
       "     ID           Name Sex   Age  Height  Weight   Team  NOC  Year  Season  \\\n",
       "0     1      A Dijiang   M  24.0   180.0    80.0  China  CHN  1992  Summer   \n",
       "1     2       A Lamusi   M  23.0   170.0    60.0  China  CHN  2012  Summer   \n",
       "2   602  Abudoureheman   M  22.0   182.0    75.0  China  CHN  2000  Summer   \n",
       "3  1463      Ai Linuer   M  25.0   160.0    62.0  China  CHN  2004  Summer   \n",
       "4  1464      Ai Yanhan   F  14.0   168.0    54.0  China  CHN  2016  Summer   \n",
       "\n",
       "             City       Sport                                     Event Medal  \\\n",
       "0       Barcelona  Basketball               Basketball Men's Basketball  None   \n",
       "1          London        Judo              Judo Men's Extra-Lightweight  None   \n",
       "2          Sydney      Boxing                 Boxing Men's Middleweight  None   \n",
       "3          Athina   Wrestling  Wrestling Men's Lightweight, Greco-Roman  None   \n",
       "4  Rio de Janeiro    Swimming     Swimming Women's 200 metres Freestyle  None   \n",
       "\n",
       "  Region  \n",
       "0  China  \n",
       "1  China  \n",
       "2  China  \n",
       "3  China  \n",
       "4  China  "
      ]
     },
     "execution_count": 2,
     "metadata": {},
     "output_type": "execute_result"
    }
   ],
   "source": [
    "df = pd.read_csv('prepd-data.csv')\n",
    "df.drop('Unnamed: 0', axis=1, inplace=True)\n",
    "df.head()"
   ]
  },
  {
   "cell_type": "code",
   "execution_count": 3,
   "metadata": {},
   "outputs": [
    {
     "name": "stdout",
     "output_type": "stream",
     "text": [
      "<class 'pandas.core.frame.DataFrame'>\n",
      "RangeIndex: 270765 entries, 0 to 270764\n",
      "Data columns (total 15 columns):\n",
      "ID        270765 non-null int64\n",
      "Name      270765 non-null object\n",
      "Sex       270765 non-null object\n",
      "Age       270765 non-null float64\n",
      "Height    270765 non-null float64\n",
      "Weight    270765 non-null float64\n",
      "Team      270765 non-null object\n",
      "NOC       270765 non-null object\n",
      "Year      270765 non-null int64\n",
      "Season    270765 non-null object\n",
      "City      270765 non-null object\n",
      "Sport     270765 non-null object\n",
      "Event     270765 non-null object\n",
      "Medal     270765 non-null object\n",
      "Region    270765 non-null object\n",
      "dtypes: float64(3), int64(2), object(10)\n",
      "memory usage: 31.0+ MB\n"
     ]
    }
   ],
   "source": [
    "df.info()"
   ]
  },
  {
   "cell_type": "code",
   "execution_count": 4,
   "metadata": {},
   "outputs": [
    {
     "name": "stderr",
     "output_type": "stream",
     "text": [
      "/anaconda3/lib/python3.6/site-packages/sklearn/utils/validation.py:475: DataConversionWarning: Data with input dtype object was converted to float64 by StandardScaler.\n",
      "  warnings.warn(msg, DataConversionWarning)\n",
      "/anaconda3/lib/python3.6/site-packages/sklearn/utils/validation.py:475: DataConversionWarning: Data with input dtype object was converted to float64 by StandardScaler.\n",
      "  warnings.warn(msg, DataConversionWarning)\n"
     ]
    },
    {
     "name": "stdout",
     "output_type": "stream",
     "text": [
      "[[ 0.61549745 -0.25245155  0.42402653  0.6507647  -1.06542753  0.45633602\n",
      "  -0.4675028  -1.19092679 -1.06341198 -0.98195753]\n",
      " [ 0.61549745 -0.41153166 -0.61940473 -0.88757195 -1.06542753  1.12558717\n",
      "  -0.4675028  -0.19382838  0.17381329  0.15427521]\n",
      " [ 0.61549745 -0.57061176  0.63271279  0.26618054 -1.06542753  0.72403648\n",
      "  -0.4675028   1.55109383 -0.80565672 -0.83396083]\n",
      " [ 0.61549745 -0.09337144 -1.66283599 -0.73373829 -1.06542753  0.85788671\n",
      "  -0.4675028  -1.35710986  1.87499803  1.83475388]\n",
      " [-1.62470211 -1.84325263 -0.82809098 -1.34907295 -1.06542753  1.2594374\n",
      "  -0.4675028   0.63708696  1.30793645  1.45282691]\n",
      " [-1.62470211 -1.84325263 -0.82809098 -1.34907295 -1.06542753  1.2594374\n",
      "  -0.4675028   0.63708696  1.30793645  1.47669734]\n",
      " [ 0.61549745 -0.57061176  0.21534028  0.03543004 -1.06542753  0.92481183\n",
      "   2.1390246   1.7172769   1.2563854   1.1950262 ]\n",
      " [ 0.61549745 -0.57061176  0.21534028  0.03543004 -1.06542753  0.92481183\n",
      "   2.1390246   1.7172769   1.2563854   1.17592985]\n",
      " [ 0.61549745 -1.04785209 -0.30637535 -0.11840363 -1.06542753  0.65711137\n",
      "   2.1390246   0.38781235  0.99863013  1.06135176]\n",
      " [ 0.61549745 -1.04785209 -0.30637535 -0.11840363 -1.06542753  0.65711137\n",
      "   2.1390246   0.38781235  0.99863013  1.0470295 ]]\n",
      "[2 2 2 2 2 2 2 2 3 2]\n",
      "{'Bronze': 0, 'Gold': 1, 'None': 2, 'Silver': 3}\n"
     ]
    }
   ],
   "source": [
    "x = df[['Sex', 'Age', 'Height', 'Weight', 'NOC', 'Year', 'Season', 'City', 'Sport', 'Event']].values\n",
    "y = df['Medal'].values\n",
    "\n",
    "le_indices = [0, 4, 6, 7, 8, 9]\n",
    "std_indices = [1, 2, 3, 5]\n",
    "\n",
    "le = []\n",
    "for i in range(len(le_indices)):\n",
    "    le.append(LabelEncoder())\n",
    "    le[i].fit(x[:,le_indices[i]])\n",
    "    x[:,le_indices[i]] = le[i].transform(x[:,le_indices[i]])\n",
    "\n",
    "std = StandardScaler()\n",
    "x_std = std.fit_transform(x)\n",
    "\n",
    "classes = np.unique(y)\n",
    "\n",
    "ley = LabelEncoder()   \n",
    "y = ley.fit_transform(y)\n",
    "\n",
    "print(x_std[:10])\n",
    "print(y[:10])\n",
    "\n",
    "ley_name_mapping = dict(zip(classes, ley.transform(classes)))\n",
    "print(ley_name_mapping)\n",
    "\n",
    "x_train, x_test, y_train, y_test = train_test_split(x_std, y, test_size=0.3)"
   ]
  },
  {
   "cell_type": "code",
   "execution_count": 6,
   "metadata": {},
   "outputs": [
    {
     "data": {
      "text/html": [
       "<div>\n",
       "<style scoped>\n",
       "    .dataframe tbody tr th:only-of-type {\n",
       "        vertical-align: middle;\n",
       "    }\n",
       "\n",
       "    .dataframe tbody tr th {\n",
       "        vertical-align: top;\n",
       "    }\n",
       "\n",
       "    .dataframe thead th {\n",
       "        text-align: right;\n",
       "    }\n",
       "</style>\n",
       "<table border=\"1\" class=\"dataframe\">\n",
       "  <thead>\n",
       "    <tr style=\"text-align: right;\">\n",
       "      <th></th>\n",
       "      <th>Sex</th>\n",
       "      <th>Age</th>\n",
       "      <th>Height</th>\n",
       "      <th>Weight</th>\n",
       "      <th>NOC</th>\n",
       "      <th>Year</th>\n",
       "      <th>Season</th>\n",
       "      <th>City</th>\n",
       "      <th>Sport</th>\n",
       "      <th>Event</th>\n",
       "      <th>Medal</th>\n",
       "    </tr>\n",
       "  </thead>\n",
       "  <tbody>\n",
       "    <tr>\n",
       "      <th>0</th>\n",
       "      <td>0.615497</td>\n",
       "      <td>-0.252452</td>\n",
       "      <td>0.424027</td>\n",
       "      <td>0.650765</td>\n",
       "      <td>-1.065428</td>\n",
       "      <td>0.456336</td>\n",
       "      <td>-0.467503</td>\n",
       "      <td>-1.190927</td>\n",
       "      <td>-1.063412</td>\n",
       "      <td>-0.981958</td>\n",
       "      <td>2</td>\n",
       "    </tr>\n",
       "    <tr>\n",
       "      <th>1</th>\n",
       "      <td>0.615497</td>\n",
       "      <td>-0.411532</td>\n",
       "      <td>-0.619405</td>\n",
       "      <td>-0.887572</td>\n",
       "      <td>-1.065428</td>\n",
       "      <td>1.125587</td>\n",
       "      <td>-0.467503</td>\n",
       "      <td>-0.193828</td>\n",
       "      <td>0.173813</td>\n",
       "      <td>0.154275</td>\n",
       "      <td>2</td>\n",
       "    </tr>\n",
       "    <tr>\n",
       "      <th>2</th>\n",
       "      <td>0.615497</td>\n",
       "      <td>-0.570612</td>\n",
       "      <td>0.632713</td>\n",
       "      <td>0.266181</td>\n",
       "      <td>-1.065428</td>\n",
       "      <td>0.724036</td>\n",
       "      <td>-0.467503</td>\n",
       "      <td>1.551094</td>\n",
       "      <td>-0.805657</td>\n",
       "      <td>-0.833961</td>\n",
       "      <td>2</td>\n",
       "    </tr>\n",
       "    <tr>\n",
       "      <th>3</th>\n",
       "      <td>0.615497</td>\n",
       "      <td>-0.093371</td>\n",
       "      <td>-1.662836</td>\n",
       "      <td>-0.733738</td>\n",
       "      <td>-1.065428</td>\n",
       "      <td>0.857887</td>\n",
       "      <td>-0.467503</td>\n",
       "      <td>-1.357110</td>\n",
       "      <td>1.874998</td>\n",
       "      <td>1.834754</td>\n",
       "      <td>2</td>\n",
       "    </tr>\n",
       "    <tr>\n",
       "      <th>4</th>\n",
       "      <td>-1.624702</td>\n",
       "      <td>-1.843253</td>\n",
       "      <td>-0.828091</td>\n",
       "      <td>-1.349073</td>\n",
       "      <td>-1.065428</td>\n",
       "      <td>1.259437</td>\n",
       "      <td>-0.467503</td>\n",
       "      <td>0.637087</td>\n",
       "      <td>1.307936</td>\n",
       "      <td>1.452827</td>\n",
       "      <td>2</td>\n",
       "    </tr>\n",
       "  </tbody>\n",
       "</table>\n",
       "</div>"
      ],
      "text/plain": [
       "        Sex       Age    Height    Weight       NOC      Year    Season  \\\n",
       "0  0.615497 -0.252452  0.424027  0.650765 -1.065428  0.456336 -0.467503   \n",
       "1  0.615497 -0.411532 -0.619405 -0.887572 -1.065428  1.125587 -0.467503   \n",
       "2  0.615497 -0.570612  0.632713  0.266181 -1.065428  0.724036 -0.467503   \n",
       "3  0.615497 -0.093371 -1.662836 -0.733738 -1.065428  0.857887 -0.467503   \n",
       "4 -1.624702 -1.843253 -0.828091 -1.349073 -1.065428  1.259437 -0.467503   \n",
       "\n",
       "       City     Sport     Event  Medal  \n",
       "0 -1.190927 -1.063412 -0.981958      2  \n",
       "1 -0.193828  0.173813  0.154275      2  \n",
       "2  1.551094 -0.805657 -0.833961      2  \n",
       "3 -1.357110  1.874998  1.834754      2  \n",
       "4  0.637087  1.307936  1.452827      2  "
      ]
     },
     "execution_count": 6,
     "metadata": {},
     "output_type": "execute_result"
    }
   ],
   "source": [
    "df = pd.DataFrame(x_std, columns=['Sex', 'Age', 'Height', 'Weight', 'NOC', 'Year', 'Season', 'City', 'Sport', 'Event'])\n",
    "df['Medal'] = y\n",
    "df.head()"
   ]
  },
  {
   "cell_type": "code",
   "execution_count": null,
   "metadata": {},
   "outputs": [
    {
     "name": "stderr",
     "output_type": "stream",
     "text": [
      "/anaconda3/lib/python3.6/site-packages/scipy/stats/stats.py:1713: FutureWarning: Using a non-tuple sequence for multidimensional indexing is deprecated; use `arr[tuple(seq)]` instead of `arr[seq]`. In the future this will be interpreted as an array index, `arr[np.array(seq)]`, which will result either in an error or a different result.\n",
      "  return np.add.reduce(sorted[indexer] * weights, axis=axis) / sumval\n",
      "/anaconda3/lib/python3.6/site-packages/statsmodels/nonparametric/kde.py:488: RuntimeWarning: invalid value encountered in true_divide\n",
      "  binned = fast_linbin(X, a, b, gridsize) / (delta * nobs)\n",
      "/anaconda3/lib/python3.6/site-packages/statsmodels/nonparametric/kdetools.py:34: RuntimeWarning: invalid value encountered in double_scalars\n",
      "  FAC1 = 2*(np.pi*bw/RANGE)**2\n"
     ]
    }
   ],
   "source": [
    "sb.pairplot(df, hue='Medal')"
   ]
  },
  {
   "cell_type": "code",
   "execution_count": null,
   "metadata": {},
   "outputs": [],
   "source": [
    "sb.pairplot(df.loc[~df.Medal.isin([2,3])], hue='Medal')"
   ]
  },
  {
   "cell_type": "code",
   "execution_count": null,
   "metadata": {},
   "outputs": [],
   "source": [
    "sb.pairplot(df.loc[~df.Medal.isin([2,1])], hue='Medal')"
   ]
  },
  {
   "cell_type": "code",
   "execution_count": null,
   "metadata": {},
   "outputs": [],
   "source": [
    "sb.pairplot(df.loc[~df.Medal.isin([2,0])], hue='Medal')"
   ]
  },
  {
   "cell_type": "code",
   "execution_count": null,
   "metadata": {},
   "outputs": [],
   "source": [
    "df_temp = df.loc[~df.Medal.isin([2,3])]\n",
    "\n",
    "x = df_temp[['Sport', 'NOC']].values\n",
    "y = df_temp['Medal'].values\n",
    "\n",
    "print(x[:10])\n",
    "print(y[:10])\n",
    "\n",
    "x_train, x_test, y_train, y_test = train_test_split(x, y, test_size=0.3)"
   ]
  },
  {
   "cell_type": "code",
   "execution_count": null,
   "metadata": {},
   "outputs": [],
   "source": [
    "def plot_decision_regions(X, y, classifier, test_idx = None, resolution = 0.02):\n",
    "    markers = ('s','x','o','^','v')\n",
    "    colors = ('red','blue','lightgreen','gray','cyan')\n",
    "    cmap = ListedColormap(colors[:len(np.unique(y))])\n",
    "    \n",
    "    x1_min, x1_max = X[:,0].min() - 1, X[:,0].max() + 1\n",
    "#     x2_min, x2_max = X[:,1].min() - 1, X[:,1].max() + 1\n",
    "    xx1,xx2 = np.meshgrid(np.arange(x1_min, x1_max, resolution),\n",
    "                         np.arange(x2_min, x2_max, resolution))\n",
    "    Z = classifier.predict(np.array([xx1.ravel(), xx2.ravel()]).T)\n",
    "    Z = Z.reshape(xx1.shape)\n",
    "    plt.contourf(xx1, xx2, Z, alpha = 0.4, cmap = cmap)\n",
    "    \n",
    "    plt.xlim(xx1.min(), xx1.max())\n",
    "    plt.ylim(xx2.min(), xx2.max())\n",
    "    # plot class samples\n",
    "    for idx, cl in enumerate(np.unique(y)):\n",
    "        plt.scatter(x=X[y == cl, 0], y=X[y == cl, 1],\n",
    "                    alpha=0.8, c=cmap(idx),\n",
    "                    marker=markers[idx], label=cl)"
   ]
  },
  {
   "cell_type": "code",
   "execution_count": null,
   "metadata": {},
   "outputs": [],
   "source": [
    "def plot_svc_decision_function(model,ax=None,plot_support=True):\n",
    "    \n",
    "    if ax is None:\n",
    "        ax=plt.gca()\n",
    "    xlim=ax.get_xlim()\n",
    "    ylim=ax.get_ylim()\n",
    "        \n",
    "    x=np.linspace(xlim[0],xlim[1],30)\n",
    "    y=np.linspace(ylim[0],ylim[1],30)\n",
    "    Y,X=np.meshgrid(y,x)\n",
    "    xy=np.vstack([X.ravel(),Y.ravel()]).T\n",
    "    P=model.decision_function(xy).reshape(X.shape)\n",
    "    #plot decision boundaries and margins\n",
    "    ax.contour(X,Y,P,colors='k',levels=[-1,0,1],alpha=0.5,linestyles=['--','-','--'])\n",
    "    \n",
    "    #plot support vectors\n",
    "    if plot_support:\n",
    "        ax.scatter(model.support_vectors_[:,0],\n",
    "                   model.support_vectors_[:,-1],\n",
    "                   s=300,linewidth=1,facecolors='none');\n",
    "    ax.set_xlim(xlim)\n",
    "    ax.set_ylim(ylim)"
   ]
  },
  {
   "cell_type": "code",
   "execution_count": null,
   "metadata": {},
   "outputs": [],
   "source": [
    "from sklearn.svm import SVC\n",
    "from sklearn.svm import SVR\n",
    "\n",
    "c = np.array([0.01, 1.0, 100])\n",
    "gamma = np.array([0.01, 1.0, 100])"
   ]
  },
  {
   "cell_type": "code",
   "execution_count": null,
   "metadata": {},
   "outputs": [],
   "source": [
    "%%time\n",
    "svm = SVC(kernel='linear')\n",
    "svm.fit(x_train, y_train)\n",
    "# print(dir(svm))\n",
    "print('Accuracy: %.3f' % svm.score(x_test, y_test))\n",
    "\n",
    "plt.scatter(x[:,0],x[:,1],c=y,s=50,cmap='autumn')\n",
    "plot_svc_decision_function(svm)\n",
    "plt.xlabel('petal length')\n",
    "plt.ylabel('petal width')\n",
    "plt.show()"
   ]
  },
  {
   "cell_type": "code",
   "execution_count": 14,
   "metadata": {},
   "outputs": [
    {
     "name": "stderr",
     "output_type": "stream",
     "text": [
      "/anaconda3/lib/python3.6/site-packages/sklearn/utils/deprecation.py:122: FutureWarning: You are accessing a training score ('split0_train_score'), which will not be available by default any more in 0.21. If you need training scores, please set return_train_score=True\n",
      "  warnings.warn(*warn_args, **warn_kwargs)\n",
      "/anaconda3/lib/python3.6/site-packages/sklearn/utils/deprecation.py:122: FutureWarning: You are accessing a training score ('split1_train_score'), which will not be available by default any more in 0.21. If you need training scores, please set return_train_score=True\n",
      "  warnings.warn(*warn_args, **warn_kwargs)\n",
      "/anaconda3/lib/python3.6/site-packages/sklearn/utils/deprecation.py:122: FutureWarning: You are accessing a training score ('split2_train_score'), which will not be available by default any more in 0.21. If you need training scores, please set return_train_score=True\n",
      "  warnings.warn(*warn_args, **warn_kwargs)\n",
      "/anaconda3/lib/python3.6/site-packages/sklearn/utils/deprecation.py:122: FutureWarning: You are accessing a training score ('mean_train_score'), which will not be available by default any more in 0.21. If you need training scores, please set return_train_score=True\n",
      "  warnings.warn(*warn_args, **warn_kwargs)\n",
      "/anaconda3/lib/python3.6/site-packages/sklearn/utils/deprecation.py:122: FutureWarning: You are accessing a training score ('std_train_score'), which will not be available by default any more in 0.21. If you need training scores, please set return_train_score=True\n",
      "  warnings.warn(*warn_args, **warn_kwargs)\n"
     ]
    },
    {
     "data": {
      "text/html": [
       "<div>\n",
       "<style scoped>\n",
       "    .dataframe tbody tr th:only-of-type {\n",
       "        vertical-align: middle;\n",
       "    }\n",
       "\n",
       "    .dataframe tbody tr th {\n",
       "        vertical-align: top;\n",
       "    }\n",
       "\n",
       "    .dataframe thead th {\n",
       "        text-align: right;\n",
       "    }\n",
       "</style>\n",
       "<table border=\"1\" class=\"dataframe\">\n",
       "  <thead>\n",
       "    <tr style=\"text-align: right;\">\n",
       "      <th></th>\n",
       "      <th>param_C</th>\n",
       "      <th>mean_fit_time</th>\n",
       "      <th>mean_score_time</th>\n",
       "      <th>mean_train_score</th>\n",
       "      <th>mean_test_score</th>\n",
       "      <th>rank_test_score</th>\n",
       "    </tr>\n",
       "  </thead>\n",
       "  <tbody>\n",
       "    <tr>\n",
       "      <th>0</th>\n",
       "      <td>0.01</td>\n",
       "      <td>0.138790</td>\n",
       "      <td>0.029200</td>\n",
       "      <td>0.544271</td>\n",
       "      <td>0.495</td>\n",
       "      <td>1</td>\n",
       "    </tr>\n",
       "    <tr>\n",
       "      <th>1</th>\n",
       "      <td>1</td>\n",
       "      <td>0.201672</td>\n",
       "      <td>0.032774</td>\n",
       "      <td>0.543854</td>\n",
       "      <td>0.495</td>\n",
       "      <td>1</td>\n",
       "    </tr>\n",
       "    <tr>\n",
       "      <th>2</th>\n",
       "      <td>100</td>\n",
       "      <td>7.122989</td>\n",
       "      <td>0.027755</td>\n",
       "      <td>0.543854</td>\n",
       "      <td>0.495</td>\n",
       "      <td>1</td>\n",
       "    </tr>\n",
       "  </tbody>\n",
       "</table>\n",
       "</div>"
      ],
      "text/plain": [
       "  param_C  mean_fit_time  mean_score_time  mean_train_score  mean_test_score  \\\n",
       "0    0.01       0.138790         0.029200          0.544271            0.495   \n",
       "1       1       0.201672         0.032774          0.543854            0.495   \n",
       "2     100       7.122989         0.027755          0.543854            0.495   \n",
       "\n",
       "   rank_test_score  \n",
       "0                1  \n",
       "1                1  \n",
       "2                1  "
      ]
     },
     "execution_count": 14,
     "metadata": {},
     "output_type": "execute_result"
    }
   ],
   "source": [
    "grid = GridSearchCV(estimator=svm, param_grid=dict(C=c))\n",
    "grid.fit(x, y)\n",
    "grid_data = pd.DataFrame(grid.cv_results_)[['param_C', 'mean_fit_time', 'mean_score_time', 'mean_train_score', 'mean_test_score', 'rank_test_score']]\n",
    "grid_data.head(10)"
   ]
  },
  {
   "cell_type": "code",
   "execution_count": null,
   "metadata": {},
   "outputs": [],
   "source": [
    "%%time\n",
    "svm = SVC(kernel='poly')\n",
    "svm.fit(x_train, y_train)\n",
    "print('Accuracy: %.3f' % svm.score(x_test, y_test))\n",
    "\n",
    "plt.scatter(x[:,0],x[:,1],c=y,s=50,cmap='autumn')\n",
    "plot_svc_decision_function(svm)\n",
    "plt.xlabel('petal length')\n",
    "plt.ylabel('petal width')   \n",
    "plt.show()"
   ]
  },
  {
   "cell_type": "code",
   "execution_count": null,
   "metadata": {},
   "outputs": [],
   "source": [
    "# grid = GridSearchCV(estimator=svm, param_grid=dict(C=c, gamma=gamma))\n",
    "# grid.fit(x, y)\n",
    "# grid_data = pd.DataFrame(grid.cv_results_)[['param_C', 'param_gamma', 'mean_fit_time', 'mean_score_time', 'mean_train_score', 'mean_test_score', 'rank_test_score']]\n",
    "# grid_data.head(10)"
   ]
  },
  {
   "cell_type": "code",
   "execution_count": null,
   "metadata": {},
   "outputs": [],
   "source": [
    "%%time\n",
    "svm = SVC(kernel='rbf')\n",
    "svm.fit(x_train, y_train)\n",
    "print('Accuracy: %.3f' % svm.score(x_test, y_test))\n",
    "\n",
    "plt.scatter(x[:,0],x[:,1],c=y,s=50,cmap='autumn')\n",
    "plot_svc_decision_function(svm)\n",
    "plt.xlabel('petal length')\n",
    "plt.ylabel('petal width')   \n",
    "plt.show()"
   ]
  },
  {
   "cell_type": "code",
   "execution_count": null,
   "metadata": {},
   "outputs": [],
   "source": [
    "grid = GridSearchCV(estimator=svm, param_grid=dict(C=c, gamma=gamma))\n",
    "grid.fit(x, y)\n",
    "grid_data = pd.DataFrame(grid.cv_results_)[['param_C', 'param_gamma', 'mean_fit_time', 'mean_score_time', 'mean_train_score', 'mean_test_score', 'rank_test_score']]\n",
    "grid_data.head(10)"
   ]
  },
  {
   "cell_type": "code",
   "execution_count": null,
   "metadata": {},
   "outputs": [],
   "source": [
    "%%time\n",
    "svm = SVC(kernel='sigmoid')\n",
    "svm.fit(x_train, y_train)\n",
    "print('Accuracy: %.3f' % svm.score(x_test, y_test))\n",
    "\n",
    "plt.scatter(x[:,0],x[:,1],c=y,s=50,cmap='autumn')\n",
    "plot_svc_decision_function(svm)\n",
    "plt.xlabel('petal length')\n",
    "plt.ylabel('petal width')   \n",
    "plt.show()"
   ]
  },
  {
   "cell_type": "code",
   "execution_count": null,
   "metadata": {},
   "outputs": [],
   "source": [
    "# grid = GridSearchCV(estimator=svm, param_grid=dict(C=c, gamma=gamma))\n",
    "# grid.fit(x, y)\n",
    "# grid_data = pd.DataFrame(grid.cv_results_)[['param_C', 'param_gamma', 'mean_fit_time', 'mean_score_time', 'mean_train_score', 'mean_test_score', 'rank_test_score']]\n",
    "# grid_data.head(10)"
   ]
  },
  {
   "cell_type": "code",
   "execution_count": null,
   "metadata": {},
   "outputs": [],
   "source": [
    "corrmatrix = df.corr()\n",
    "corrmatrix.head()"
   ]
  },
  {
   "cell_type": "code",
   "execution_count": null,
   "metadata": {},
   "outputs": [],
   "source": [
    "f = plt.subplots(figsize=(21,21))\n",
    "sb.heatmap(corrmatrix, annot=True)"
   ]
  },
  {
   "cell_type": "code",
   "execution_count": null,
   "metadata": {},
   "outputs": [],
   "source": [
    "x = df[['Height']].values\n",
    "y = df['Weight'].values\n",
    "\n",
    "sc_x = StandardScaler()\n",
    "sc_y = StandardScaler()\n",
    "x_std = sc_x.fit_transform(x)\n",
    "y_std = sc_y.fit_transform(y[:, np.newaxis]).flatten()\n",
    "\n",
    "x_train, x_test, y_train, y_test = train_test_split(x_std, y_std, test_size=0.3)"
   ]
  },
  {
   "cell_type": "code",
   "execution_count": null,
   "metadata": {},
   "outputs": [],
   "source": [
    "%%time\n",
    "svm = SVR(kernel='linear')\n",
    "svm.fit(x_train, y_train)\n",
    "print('Accuracy: %.3f' % svm.score(x_test, y_test))"
   ]
  },
  {
   "cell_type": "code",
   "execution_count": null,
   "metadata": {},
   "outputs": [],
   "source": [
    "grid = GridSearchCV(estimator=svm, param_grid=dict(C=c))\n",
    "grid.fit(x_std, y)\n",
    "grid_data = pd.DataFrame(grid.cv_results_)[['param_C', 'mean_fit_time', 'mean_score_time', 'mean_train_score', 'mean_test_score', 'rank_test_score']]\n",
    "grid_data.head(10)"
   ]
  },
  {
   "cell_type": "code",
   "execution_count": null,
   "metadata": {},
   "outputs": [],
   "source": [
    "%%time\n",
    "svm = SVR(kernel='poly')\n",
    "svm.fit(x_train, y_train)\n",
    "print('Accuracy: %.3f' % svm.score(x_test, y_test))"
   ]
  },
  {
   "cell_type": "code",
   "execution_count": null,
   "metadata": {},
   "outputs": [],
   "source": [
    "grid = GridSearchCV(estimator=svm, param_grid=dict(C=c, gamma=gamma))\n",
    "grid.fit(x_std, y)\n",
    "grid_data = pd.DataFrame(grid.cv_results_)[['param_C', 'param_gamma', 'mean_fit_time', 'mean_score_time', 'mean_train_score', 'mean_test_score', 'rank_test_score']]\n",
    "grid_data.head(10)"
   ]
  },
  {
   "cell_type": "code",
   "execution_count": null,
   "metadata": {},
   "outputs": [],
   "source": [
    "%%time\n",
    "svm = SVR(kernel='rbf')\n",
    "svm.fit(x_train, y_train)\n",
    "print('Accuracy: %.3f' % svm.score(x_test, y_test))"
   ]
  },
  {
   "cell_type": "code",
   "execution_count": null,
   "metadata": {},
   "outputs": [],
   "source": [
    "grid = GridSearchCV(estimator=svm, param_grid=dict(C=c, gamma=gamma))\n",
    "grid.fit(x_std, y)\n",
    "grid_data = pd.DataFrame(grid.cv_results_)[['param_C', 'param_gamma', 'mean_fit_time', 'mean_score_time', 'mean_train_score', 'mean_test_score', 'rank_test_score']]\n",
    "grid_data.head(10)"
   ]
  },
  {
   "cell_type": "code",
   "execution_count": null,
   "metadata": {},
   "outputs": [],
   "source": [
    "%%time\n",
    "svm = SVR(kernel='sigmoid')\n",
    "svm.fit(x_train, y_train)\n",
    "# print(dir(svm))\n",
    "print('Accuracy: %.3f' % svm.score(x_test, y_test))"
   ]
  },
  {
   "cell_type": "code",
   "execution_count": null,
   "metadata": {},
   "outputs": [],
   "source": [
    "grid = GridSearchCV(estimator=svm, param_grid=dict(C=c, gamma=gamma))\n",
    "grid.fit(x_std, y)\n",
    "grid_data = pd.DataFrame(grid.cv_results_)[['param_C', 'param_gamma', 'mean_fit_time', 'mean_score_time', 'mean_train_score', 'mean_test_score', 'rank_test_score']]\n",
    "grid_data.head(10)"
   ]
  },
  {
   "cell_type": "code",
   "execution_count": null,
   "metadata": {},
   "outputs": [],
   "source": [
    "x = df.iloc[:, :-1]\n",
    "y = df['Medal'].values\n",
    "\n",
    "x_train, x_test, y_train, y_test = train_test_split(x, y, test_size=0.3)"
   ]
  },
  {
   "cell_type": "code",
   "execution_count": null,
   "metadata": {},
   "outputs": [],
   "source": [
    "%%time\n",
    "svm = SVC(kernel='rbf')\n",
    "svm.fit(x_train, y_train)\n",
    "print('Accuracy: %.3f' % svm.score(x_test, y_test))"
   ]
  },
  {
   "cell_type": "code",
   "execution_count": null,
   "metadata": {},
   "outputs": [],
   "source": [
    "%%time\n",
    "svm = SVR(kernel='rbf')\n",
    "svm.fit(x_train, y_train)\n",
    "print('Accuracy: %.3f' % svm.score(x_test, y_test))"
   ]
  },
  {
   "cell_type": "code",
   "execution_count": null,
   "metadata": {},
   "outputs": [],
   "source": []
  }
 ],
 "metadata": {
  "kernelspec": {
   "display_name": "Python 3",
   "language": "python",
   "name": "python3"
  },
  "language_info": {
   "codemirror_mode": {
    "name": "ipython",
    "version": 3
   },
   "file_extension": ".py",
   "mimetype": "text/x-python",
   "name": "python",
   "nbconvert_exporter": "python",
   "pygments_lexer": "ipython3",
   "version": "3.6.5"
  }
 },
 "nbformat": 4,
 "nbformat_minor": 2
}
