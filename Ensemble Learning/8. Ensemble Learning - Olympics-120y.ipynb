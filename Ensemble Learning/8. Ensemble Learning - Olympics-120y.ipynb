{
 "cells": [
  {
   "cell_type": "code",
   "execution_count": 1,
   "metadata": {},
   "outputs": [
    {
     "name": "stderr",
     "output_type": "stream",
     "text": [
      "/anaconda3/lib/python3.6/importlib/_bootstrap.py:219: RuntimeWarning: numpy.dtype size changed, may indicate binary incompatibility. Expected 96, got 88\n",
      "  return f(*args, **kwds)\n",
      "/anaconda3/lib/python3.6/importlib/_bootstrap.py:219: RuntimeWarning: numpy.dtype size changed, may indicate binary incompatibility. Expected 96, got 88\n",
      "  return f(*args, **kwds)\n",
      "/anaconda3/lib/python3.6/importlib/_bootstrap.py:219: RuntimeWarning: numpy.dtype size changed, may indicate binary incompatibility. Expected 96, got 88\n",
      "  return f(*args, **kwds)\n",
      "/anaconda3/lib/python3.6/importlib/_bootstrap.py:219: RuntimeWarning: numpy.dtype size changed, may indicate binary incompatibility. Expected 96, got 88\n",
      "  return f(*args, **kwds)\n",
      "/anaconda3/lib/python3.6/importlib/_bootstrap.py:219: RuntimeWarning: numpy.dtype size changed, may indicate binary incompatibility. Expected 96, got 88\n",
      "  return f(*args, **kwds)\n",
      "/anaconda3/lib/python3.6/importlib/_bootstrap.py:219: RuntimeWarning: numpy.dtype size changed, may indicate binary incompatibility. Expected 96, got 88\n",
      "  return f(*args, **kwds)\n"
     ]
    }
   ],
   "source": [
    "import numpy as np\n",
    "import pandas as pd\n",
    "import matplotlib.pyplot as plt\n",
    "from matplotlib.colors import ListedColormap\n",
    "import warnings\n",
    "%matplotlib inline\n",
    "import seaborn as sb\n",
    "\n",
    "from sklearn.preprocessing import StandardScaler\n",
    "from sklearn.preprocessing import LabelEncoder\n",
    "from sklearn.model_selection import train_test_split\n",
    "from sklearn.metrics import accuracy_score"
   ]
  },
  {
   "cell_type": "code",
   "execution_count": 2,
   "metadata": {},
   "outputs": [
    {
     "data": {
      "text/html": [
       "<div>\n",
       "<style scoped>\n",
       "    .dataframe tbody tr th:only-of-type {\n",
       "        vertical-align: middle;\n",
       "    }\n",
       "\n",
       "    .dataframe tbody tr th {\n",
       "        vertical-align: top;\n",
       "    }\n",
       "\n",
       "    .dataframe thead th {\n",
       "        text-align: right;\n",
       "    }\n",
       "</style>\n",
       "<table border=\"1\" class=\"dataframe\">\n",
       "  <thead>\n",
       "    <tr style=\"text-align: right;\">\n",
       "      <th></th>\n",
       "      <th>ID</th>\n",
       "      <th>Name</th>\n",
       "      <th>Sex</th>\n",
       "      <th>Age</th>\n",
       "      <th>Height</th>\n",
       "      <th>Weight</th>\n",
       "      <th>Team</th>\n",
       "      <th>NOC</th>\n",
       "      <th>Year</th>\n",
       "      <th>Season</th>\n",
       "      <th>City</th>\n",
       "      <th>Sport</th>\n",
       "      <th>Event</th>\n",
       "      <th>Medal</th>\n",
       "      <th>Region</th>\n",
       "    </tr>\n",
       "  </thead>\n",
       "  <tbody>\n",
       "    <tr>\n",
       "      <th>0</th>\n",
       "      <td>1</td>\n",
       "      <td>A Dijiang</td>\n",
       "      <td>M</td>\n",
       "      <td>24.0</td>\n",
       "      <td>180.0</td>\n",
       "      <td>80.0</td>\n",
       "      <td>China</td>\n",
       "      <td>CHN</td>\n",
       "      <td>1992</td>\n",
       "      <td>Summer</td>\n",
       "      <td>Barcelona</td>\n",
       "      <td>Basketball</td>\n",
       "      <td>Basketball Men's Basketball</td>\n",
       "      <td>None</td>\n",
       "      <td>China</td>\n",
       "    </tr>\n",
       "    <tr>\n",
       "      <th>1</th>\n",
       "      <td>2</td>\n",
       "      <td>A Lamusi</td>\n",
       "      <td>M</td>\n",
       "      <td>23.0</td>\n",
       "      <td>170.0</td>\n",
       "      <td>60.0</td>\n",
       "      <td>China</td>\n",
       "      <td>CHN</td>\n",
       "      <td>2012</td>\n",
       "      <td>Summer</td>\n",
       "      <td>London</td>\n",
       "      <td>Judo</td>\n",
       "      <td>Judo Men's Extra-Lightweight</td>\n",
       "      <td>None</td>\n",
       "      <td>China</td>\n",
       "    </tr>\n",
       "    <tr>\n",
       "      <th>2</th>\n",
       "      <td>602</td>\n",
       "      <td>Abudoureheman</td>\n",
       "      <td>M</td>\n",
       "      <td>22.0</td>\n",
       "      <td>182.0</td>\n",
       "      <td>75.0</td>\n",
       "      <td>China</td>\n",
       "      <td>CHN</td>\n",
       "      <td>2000</td>\n",
       "      <td>Summer</td>\n",
       "      <td>Sydney</td>\n",
       "      <td>Boxing</td>\n",
       "      <td>Boxing Men's Middleweight</td>\n",
       "      <td>None</td>\n",
       "      <td>China</td>\n",
       "    </tr>\n",
       "    <tr>\n",
       "      <th>3</th>\n",
       "      <td>1463</td>\n",
       "      <td>Ai Linuer</td>\n",
       "      <td>M</td>\n",
       "      <td>25.0</td>\n",
       "      <td>160.0</td>\n",
       "      <td>62.0</td>\n",
       "      <td>China</td>\n",
       "      <td>CHN</td>\n",
       "      <td>2004</td>\n",
       "      <td>Summer</td>\n",
       "      <td>Athina</td>\n",
       "      <td>Wrestling</td>\n",
       "      <td>Wrestling Men's Lightweight, Greco-Roman</td>\n",
       "      <td>None</td>\n",
       "      <td>China</td>\n",
       "    </tr>\n",
       "    <tr>\n",
       "      <th>4</th>\n",
       "      <td>1464</td>\n",
       "      <td>Ai Yanhan</td>\n",
       "      <td>F</td>\n",
       "      <td>14.0</td>\n",
       "      <td>168.0</td>\n",
       "      <td>54.0</td>\n",
       "      <td>China</td>\n",
       "      <td>CHN</td>\n",
       "      <td>2016</td>\n",
       "      <td>Summer</td>\n",
       "      <td>Rio de Janeiro</td>\n",
       "      <td>Swimming</td>\n",
       "      <td>Swimming Women's 200 metres Freestyle</td>\n",
       "      <td>None</td>\n",
       "      <td>China</td>\n",
       "    </tr>\n",
       "  </tbody>\n",
       "</table>\n",
       "</div>"
      ],
      "text/plain": [
       "     ID           Name Sex   Age  Height  Weight   Team  NOC  Year  Season  \\\n",
       "0     1      A Dijiang   M  24.0   180.0    80.0  China  CHN  1992  Summer   \n",
       "1     2       A Lamusi   M  23.0   170.0    60.0  China  CHN  2012  Summer   \n",
       "2   602  Abudoureheman   M  22.0   182.0    75.0  China  CHN  2000  Summer   \n",
       "3  1463      Ai Linuer   M  25.0   160.0    62.0  China  CHN  2004  Summer   \n",
       "4  1464      Ai Yanhan   F  14.0   168.0    54.0  China  CHN  2016  Summer   \n",
       "\n",
       "             City       Sport                                     Event Medal  \\\n",
       "0       Barcelona  Basketball               Basketball Men's Basketball  None   \n",
       "1          London        Judo              Judo Men's Extra-Lightweight  None   \n",
       "2          Sydney      Boxing                 Boxing Men's Middleweight  None   \n",
       "3          Athina   Wrestling  Wrestling Men's Lightweight, Greco-Roman  None   \n",
       "4  Rio de Janeiro    Swimming     Swimming Women's 200 metres Freestyle  None   \n",
       "\n",
       "  Region  \n",
       "0  China  \n",
       "1  China  \n",
       "2  China  \n",
       "3  China  \n",
       "4  China  "
      ]
     },
     "execution_count": 2,
     "metadata": {},
     "output_type": "execute_result"
    }
   ],
   "source": [
    "df = pd.read_csv('prepd-data.csv')\n",
    "df.drop('Unnamed: 0', axis=1, inplace=True)\n",
    "df.head()"
   ]
  },
  {
   "cell_type": "code",
   "execution_count": 9,
   "metadata": {},
   "outputs": [
    {
     "name": "stdout",
     "output_type": "stream",
     "text": [
      "<class 'pandas.core.frame.DataFrame'>\n",
      "RangeIndex: 270765 entries, 0 to 270764\n",
      "Data columns (total 15 columns):\n",
      "ID        270765 non-null int64\n",
      "Name      270765 non-null object\n",
      "Sex       270765 non-null object\n",
      "Age       270765 non-null float64\n",
      "Height    270765 non-null float64\n",
      "Weight    270765 non-null float64\n",
      "Team      270765 non-null object\n",
      "NOC       270765 non-null object\n",
      "Year      270765 non-null int64\n",
      "Season    270765 non-null object\n",
      "City      270765 non-null object\n",
      "Sport     270765 non-null object\n",
      "Event     270765 non-null object\n",
      "Medal     270765 non-null object\n",
      "Region    270765 non-null object\n",
      "dtypes: float64(3), int64(2), object(10)\n",
      "memory usage: 31.0+ MB\n"
     ]
    }
   ],
   "source": [
    "df.info()"
   ]
  },
  {
   "cell_type": "code",
   "execution_count": 3,
   "metadata": {},
   "outputs": [
    {
     "name": "stdout",
     "output_type": "stream",
     "text": [
      "[['M' 24.0 180.0 80.0 'CHN' 1992 'Summer' 'Barcelona' 'Basketball'\n",
      "  \"Basketball Men's Basketball\"]\n",
      " ['M' 23.0 170.0 60.0 'CHN' 2012 'Summer' 'London' 'Judo'\n",
      "  \"Judo Men's Extra-Lightweight\"]\n",
      " ['M' 22.0 182.0 75.0 'CHN' 2000 'Summer' 'Sydney' 'Boxing'\n",
      "  \"Boxing Men's Middleweight\"]\n",
      " ['M' 25.0 160.0 62.0 'CHN' 2004 'Summer' 'Athina' 'Wrestling'\n",
      "  \"Wrestling Men's Lightweight, Greco-Roman\"]\n",
      " ['F' 14.0 168.0 54.0 'CHN' 2016 'Summer' 'Rio de Janeiro' 'Swimming'\n",
      "  \"Swimming Women's 200 metres Freestyle\"]\n",
      " ['F' 14.0 168.0 54.0 'CHN' 2016 'Summer' 'Rio de Janeiro' 'Swimming'\n",
      "  \"Swimming Women's 4 x 200 metres Freestyle Relay\"]\n",
      " ['M' 22.0 178.0 72.0 'CHN' 2006 'Winter' 'Torino' 'Speed Skating'\n",
      "  \"Speed Skating Men's 500 metres\"]\n",
      " ['M' 22.0 178.0 72.0 'CHN' 2006 'Winter' 'Torino' 'Speed Skating'\n",
      "  \"Speed Skating Men's 1,000 metres\"]\n",
      " ['M' 19.0 173.0 70.0 'CHN' 1998 'Winter' 'Nagano'\n",
      "  'Short Track Speed Skating'\n",
      "  \"Short Track Speed Skating Men's 500 metres\"]\n",
      " ['M' 19.0 173.0 70.0 'CHN' 1998 'Winter' 'Nagano'\n",
      "  'Short Track Speed Skating'\n",
      "  \"Short Track Speed Skating Men's 1,000 metres\"]]\n",
      "['None' 'None' 'None' 'None' 'None' 'None' 'None' 'None' 'Silver' 'None']\n"
     ]
    }
   ],
   "source": [
    "x = df[['Sex', 'Age', 'Height', 'Weight', 'NOC', 'Year', 'Season', 'City', 'Sport', 'Event']].values\n",
    "y = df['Medal'].values\n",
    "print(x[:10])\n",
    "print(y[:10])"
   ]
  },
  {
   "cell_type": "code",
   "execution_count": 4,
   "metadata": {},
   "outputs": [
    {
     "name": "stderr",
     "output_type": "stream",
     "text": [
      "/anaconda3/lib/python3.6/site-packages/sklearn/utils/validation.py:475: DataConversionWarning: Data with input dtype object was converted to float64 by StandardScaler.\n",
      "  warnings.warn(msg, DataConversionWarning)\n",
      "/anaconda3/lib/python3.6/site-packages/sklearn/utils/validation.py:475: DataConversionWarning: Data with input dtype object was converted to float64 by StandardScaler.\n",
      "  warnings.warn(msg, DataConversionWarning)\n"
     ]
    },
    {
     "name": "stdout",
     "output_type": "stream",
     "text": [
      "[[ 0.61549745 -0.25245155  0.42402653  0.6507647  -1.06542753  0.45633602\n",
      "  -0.4675028  -1.19092679 -1.06341198 -0.98195753]\n",
      " [ 0.61549745 -0.41153166 -0.61940473 -0.88757195 -1.06542753  1.12558717\n",
      "  -0.4675028  -0.19382838  0.17381329  0.15427521]\n",
      " [ 0.61549745 -0.57061176  0.63271279  0.26618054 -1.06542753  0.72403648\n",
      "  -0.4675028   1.55109383 -0.80565672 -0.83396083]\n",
      " [ 0.61549745 -0.09337144 -1.66283599 -0.73373829 -1.06542753  0.85788671\n",
      "  -0.4675028  -1.35710986  1.87499803  1.83475388]\n",
      " [-1.62470211 -1.84325263 -0.82809098 -1.34907295 -1.06542753  1.2594374\n",
      "  -0.4675028   0.63708696  1.30793645  1.45282691]\n",
      " [-1.62470211 -1.84325263 -0.82809098 -1.34907295 -1.06542753  1.2594374\n",
      "  -0.4675028   0.63708696  1.30793645  1.47669734]\n",
      " [ 0.61549745 -0.57061176  0.21534028  0.03543004 -1.06542753  0.92481183\n",
      "   2.1390246   1.7172769   1.2563854   1.1950262 ]\n",
      " [ 0.61549745 -0.57061176  0.21534028  0.03543004 -1.06542753  0.92481183\n",
      "   2.1390246   1.7172769   1.2563854   1.17592985]\n",
      " [ 0.61549745 -1.04785209 -0.30637535 -0.11840363 -1.06542753  0.65711137\n",
      "   2.1390246   0.38781235  0.99863013  1.06135176]\n",
      " [ 0.61549745 -1.04785209 -0.30637535 -0.11840363 -1.06542753  0.65711137\n",
      "   2.1390246   0.38781235  0.99863013  1.0470295 ]]\n",
      "[2 2 2 2 2 2 2 2 3 2]\n"
     ]
    }
   ],
   "source": [
    "le_indices = [0, 4, 6, 7, 8, 9]\n",
    "std_indices = [1, 2, 3, 5]\n",
    "\n",
    "le = []\n",
    "for i in range(len(le_indices)):\n",
    "    le.append(LabelEncoder())\n",
    "    le[i].fit(x[:,le_indices[i]])\n",
    "    x[:,le_indices[i]] = le[i].transform(x[:,le_indices[i]])\n",
    "\n",
    "sc = StandardScaler()\n",
    "x_std = sc.fit_transform(x)\n",
    "\n",
    "ley = LabelEncoder()   \n",
    "y = ley.fit_transform(y)\n",
    "\n",
    "print(x_std[:10])\n",
    "print(y[:10])\n",
    "\n",
    "x_train, x_test, y_train, y_test = train_test_split(x_std, y, test_size=0.3)"
   ]
  },
  {
   "cell_type": "code",
   "execution_count": 5,
   "metadata": {},
   "outputs": [
    {
     "name": "stderr",
     "output_type": "stream",
     "text": [
      "/anaconda3/lib/python3.6/importlib/_bootstrap.py:219: RuntimeWarning: numpy.dtype size changed, may indicate binary incompatibility. Expected 96, got 88\n",
      "  return f(*args, **kwds)\n",
      "/anaconda3/lib/python3.6/site-packages/sklearn/ensemble/weight_boosting.py:29: DeprecationWarning: numpy.core.umath_tests is an internal NumPy module and should not be imported. It will be removed in a future NumPy release.\n",
      "  from numpy.core.umath_tests import inner1d\n"
     ]
    },
    {
     "name": "stdout",
     "output_type": "stream",
     "text": [
      "Accuracy:  0.855\n",
      "CPU times: user 9min 23s, sys: 7.32 s, total: 9min 30s\n",
      "Wall time: 9min 32s\n"
     ]
    }
   ],
   "source": [
    "%%time\n",
    "\n",
    "from sklearn import model_selection\n",
    "from sklearn.ensemble import RandomForestClassifier\n",
    "\n",
    "kfold = model_selection.KFold(n_splits=10, random_state=7)\n",
    "model = RandomForestClassifier(n_estimators=100, max_features=6)\n",
    "results = model_selection.cross_val_score(model, x, y, cv=kfold)\n",
    "\n",
    "print('Accuracy: ', round(results.mean(),3))"
   ]
  },
  {
   "cell_type": "code",
   "execution_count": 6,
   "metadata": {},
   "outputs": [
    {
     "name": "stdout",
     "output_type": "stream",
     "text": [
      "Accuracy:  0.853\n",
      "CPU times: user 2min 4s, sys: 3.22 s, total: 2min 8s\n",
      "Wall time: 2min 8s\n"
     ]
    }
   ],
   "source": [
    "%%time\n",
    "from sklearn.ensemble import AdaBoostClassifier\n",
    "\n",
    "kfold = model_selection.KFold(n_splits=10, random_state=7)\n",
    "model = AdaBoostClassifier(n_estimators=100, random_state=7)\n",
    "results = model_selection.cross_val_score(model, x, y, cv=kfold)\n",
    "\n",
    "print('Accuracy: ', round(results.mean(),3))"
   ]
  },
  {
   "cell_type": "code",
   "execution_count": 7,
   "metadata": {},
   "outputs": [
    {
     "name": "stdout",
     "output_type": "stream",
     "text": [
      "Accuracy:  0.853\n",
      "CPU times: user 11min 19s, sys: 36.1 s, total: 11min 55s\n",
      "Wall time: 11min 57s\n"
     ]
    }
   ],
   "source": [
    "%%time\n",
    "from sklearn.ensemble import GradientBoostingClassifier\n",
    "\n",
    "kfold = model_selection.KFold(n_splits=10, random_state=7)\n",
    "model = GradientBoostingClassifier(n_estimators=100, random_state=7)\n",
    "results = model_selection.cross_val_score(model, x, y, cv=kfold)\n",
    "\n",
    "print('Accuracy: ', round(results.mean(),3))"
   ]
  },
  {
   "cell_type": "code",
   "execution_count": 8,
   "metadata": {},
   "outputs": [
    {
     "name": "stdout",
     "output_type": "stream",
     "text": [
      "Accuracy:  0.854\n",
      "CPU times: user 35.6 s, sys: 271 ms, total: 35.8 s\n",
      "Wall time: 36.9 s\n"
     ]
    },
    {
     "name": "stderr",
     "output_type": "stream",
     "text": [
      "/anaconda3/lib/python3.6/site-packages/sklearn/preprocessing/label.py:151: DeprecationWarning: The truth value of an empty array is ambiguous. Returning False, but in future this will result in an error. Use `array.size > 0` to check that an array is not empty.\n",
      "  if diff:\n"
     ]
    }
   ],
   "source": [
    "%%time\n",
    "from xgboost import XGBClassifier\n",
    "\n",
    "model = XGBClassifier()\n",
    "model.fit(x_train,y_train)\n",
    "y_pred = model.predict(x_test)\n",
    "\n",
    "print('Accuracy: ', round(accuracy_score(y_test,y_pred), 3))"
   ]
  }
 ],
 "metadata": {
  "kernelspec": {
   "display_name": "Python 3",
   "language": "python",
   "name": "python3"
  },
  "language_info": {
   "codemirror_mode": {
    "name": "ipython",
    "version": 3
   },
   "file_extension": ".py",
   "mimetype": "text/x-python",
   "name": "python",
   "nbconvert_exporter": "python",
   "pygments_lexer": "ipython3",
   "version": "3.6.6"
  }
 },
 "nbformat": 4,
 "nbformat_minor": 2
}
