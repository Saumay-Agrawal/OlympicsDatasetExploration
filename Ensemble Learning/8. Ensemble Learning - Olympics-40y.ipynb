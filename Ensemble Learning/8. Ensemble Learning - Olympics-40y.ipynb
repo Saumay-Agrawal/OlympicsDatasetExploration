{
 "cells": [
  {
   "cell_type": "code",
   "execution_count": 1,
   "metadata": {},
   "outputs": [
    {
     "name": "stderr",
     "output_type": "stream",
     "text": [
      "/anaconda3/lib/python3.6/importlib/_bootstrap.py:219: RuntimeWarning: numpy.dtype size changed, may indicate binary incompatibility. Expected 96, got 88\n",
      "  return f(*args, **kwds)\n",
      "/anaconda3/lib/python3.6/importlib/_bootstrap.py:219: RuntimeWarning: numpy.dtype size changed, may indicate binary incompatibility. Expected 96, got 88\n",
      "  return f(*args, **kwds)\n",
      "/anaconda3/lib/python3.6/importlib/_bootstrap.py:219: RuntimeWarning: numpy.dtype size changed, may indicate binary incompatibility. Expected 96, got 88\n",
      "  return f(*args, **kwds)\n",
      "/anaconda3/lib/python3.6/importlib/_bootstrap.py:219: RuntimeWarning: numpy.dtype size changed, may indicate binary incompatibility. Expected 96, got 88\n",
      "  return f(*args, **kwds)\n",
      "/anaconda3/lib/python3.6/importlib/_bootstrap.py:219: RuntimeWarning: numpy.dtype size changed, may indicate binary incompatibility. Expected 96, got 88\n",
      "  return f(*args, **kwds)\n",
      "/anaconda3/lib/python3.6/importlib/_bootstrap.py:219: RuntimeWarning: numpy.dtype size changed, may indicate binary incompatibility. Expected 96, got 88\n",
      "  return f(*args, **kwds)\n"
     ]
    }
   ],
   "source": [
    "import numpy as np\n",
    "import pandas as pd\n",
    "import matplotlib.pyplot as plt\n",
    "from matplotlib.colors import ListedColormap\n",
    "import warnings\n",
    "%matplotlib inline\n",
    "import seaborn as sb\n",
    "\n",
    "from sklearn.preprocessing import StandardScaler\n",
    "from sklearn.preprocessing import LabelEncoder\n",
    "from sklearn.model_selection import train_test_split\n",
    "from sklearn.metrics import accuracy_score"
   ]
  },
  {
   "cell_type": "code",
   "execution_count": 2,
   "metadata": {},
   "outputs": [
    {
     "data": {
      "text/html": [
       "<div>\n",
       "<style scoped>\n",
       "    .dataframe tbody tr th:only-of-type {\n",
       "        vertical-align: middle;\n",
       "    }\n",
       "\n",
       "    .dataframe tbody tr th {\n",
       "        vertical-align: top;\n",
       "    }\n",
       "\n",
       "    .dataframe thead th {\n",
       "        text-align: right;\n",
       "    }\n",
       "</style>\n",
       "<table border=\"1\" class=\"dataframe\">\n",
       "  <thead>\n",
       "    <tr style=\"text-align: right;\">\n",
       "      <th></th>\n",
       "      <th>ID</th>\n",
       "      <th>Name</th>\n",
       "      <th>Sex</th>\n",
       "      <th>Age</th>\n",
       "      <th>Height</th>\n",
       "      <th>Weight</th>\n",
       "      <th>Team</th>\n",
       "      <th>NOC</th>\n",
       "      <th>Year</th>\n",
       "      <th>Season</th>\n",
       "      <th>City</th>\n",
       "      <th>Sport</th>\n",
       "      <th>Event</th>\n",
       "      <th>Medal</th>\n",
       "      <th>Region</th>\n",
       "    </tr>\n",
       "  </thead>\n",
       "  <tbody>\n",
       "    <tr>\n",
       "      <th>0</th>\n",
       "      <td>2</td>\n",
       "      <td>A Lamusi</td>\n",
       "      <td>M</td>\n",
       "      <td>23.0</td>\n",
       "      <td>170.0</td>\n",
       "      <td>60.0</td>\n",
       "      <td>China</td>\n",
       "      <td>CHN</td>\n",
       "      <td>2012</td>\n",
       "      <td>Summer</td>\n",
       "      <td>London</td>\n",
       "      <td>Judo</td>\n",
       "      <td>Judo Men's Extra-Lightweight</td>\n",
       "      <td>None</td>\n",
       "      <td>China</td>\n",
       "    </tr>\n",
       "    <tr>\n",
       "      <th>1</th>\n",
       "      <td>602</td>\n",
       "      <td>Abudoureheman</td>\n",
       "      <td>M</td>\n",
       "      <td>22.0</td>\n",
       "      <td>182.0</td>\n",
       "      <td>75.0</td>\n",
       "      <td>China</td>\n",
       "      <td>CHN</td>\n",
       "      <td>2000</td>\n",
       "      <td>Summer</td>\n",
       "      <td>Sydney</td>\n",
       "      <td>Boxing</td>\n",
       "      <td>Boxing Men's Middleweight</td>\n",
       "      <td>None</td>\n",
       "      <td>China</td>\n",
       "    </tr>\n",
       "    <tr>\n",
       "      <th>2</th>\n",
       "      <td>1463</td>\n",
       "      <td>Ai Linuer</td>\n",
       "      <td>M</td>\n",
       "      <td>25.0</td>\n",
       "      <td>160.0</td>\n",
       "      <td>62.0</td>\n",
       "      <td>China</td>\n",
       "      <td>CHN</td>\n",
       "      <td>2004</td>\n",
       "      <td>Summer</td>\n",
       "      <td>Athina</td>\n",
       "      <td>Wrestling</td>\n",
       "      <td>Wrestling Men's Lightweight, Greco-Roman</td>\n",
       "      <td>None</td>\n",
       "      <td>China</td>\n",
       "    </tr>\n",
       "    <tr>\n",
       "      <th>3</th>\n",
       "      <td>1464</td>\n",
       "      <td>Ai Yanhan</td>\n",
       "      <td>F</td>\n",
       "      <td>14.0</td>\n",
       "      <td>168.0</td>\n",
       "      <td>54.0</td>\n",
       "      <td>China</td>\n",
       "      <td>CHN</td>\n",
       "      <td>2016</td>\n",
       "      <td>Summer</td>\n",
       "      <td>Rio de Janeiro</td>\n",
       "      <td>Swimming</td>\n",
       "      <td>Swimming Women's 200 metres Freestyle</td>\n",
       "      <td>None</td>\n",
       "      <td>China</td>\n",
       "    </tr>\n",
       "    <tr>\n",
       "      <th>4</th>\n",
       "      <td>1464</td>\n",
       "      <td>Ai Yanhan</td>\n",
       "      <td>F</td>\n",
       "      <td>14.0</td>\n",
       "      <td>168.0</td>\n",
       "      <td>54.0</td>\n",
       "      <td>China</td>\n",
       "      <td>CHN</td>\n",
       "      <td>2016</td>\n",
       "      <td>Summer</td>\n",
       "      <td>Rio de Janeiro</td>\n",
       "      <td>Swimming</td>\n",
       "      <td>Swimming Women's 4 x 200 metres Freestyle Relay</td>\n",
       "      <td>None</td>\n",
       "      <td>China</td>\n",
       "    </tr>\n",
       "  </tbody>\n",
       "</table>\n",
       "</div>"
      ],
      "text/plain": [
       "     ID           Name Sex   Age  Height  Weight   Team  NOC  Year  Season  \\\n",
       "0     2       A Lamusi   M  23.0   170.0    60.0  China  CHN  2012  Summer   \n",
       "1   602  Abudoureheman   M  22.0   182.0    75.0  China  CHN  2000  Summer   \n",
       "2  1463      Ai Linuer   M  25.0   160.0    62.0  China  CHN  2004  Summer   \n",
       "3  1464      Ai Yanhan   F  14.0   168.0    54.0  China  CHN  2016  Summer   \n",
       "4  1464      Ai Yanhan   F  14.0   168.0    54.0  China  CHN  2016  Summer   \n",
       "\n",
       "             City      Sport                                            Event  \\\n",
       "0          London       Judo                     Judo Men's Extra-Lightweight   \n",
       "1          Sydney     Boxing                        Boxing Men's Middleweight   \n",
       "2          Athina  Wrestling         Wrestling Men's Lightweight, Greco-Roman   \n",
       "3  Rio de Janeiro   Swimming            Swimming Women's 200 metres Freestyle   \n",
       "4  Rio de Janeiro   Swimming  Swimming Women's 4 x 200 metres Freestyle Relay   \n",
       "\n",
       "  Medal Region  \n",
       "0  None  China  \n",
       "1  None  China  \n",
       "2  None  China  \n",
       "3  None  China  \n",
       "4  None  China  "
      ]
     },
     "execution_count": 2,
     "metadata": {},
     "output_type": "execute_result"
    }
   ],
   "source": [
    "df = pd.read_csv('prepd-data-40y.csv')\n",
    "df.drop('Unnamed: 0', axis=1, inplace=True)\n",
    "df.head()"
   ]
  },
  {
   "cell_type": "code",
   "execution_count": 9,
   "metadata": {},
   "outputs": [
    {
     "name": "stdout",
     "output_type": "stream",
     "text": [
      "<class 'pandas.core.frame.DataFrame'>\n",
      "RangeIndex: 102459 entries, 0 to 102458\n",
      "Data columns (total 15 columns):\n",
      "ID        102459 non-null int64\n",
      "Name      102459 non-null object\n",
      "Sex       102459 non-null object\n",
      "Age       102459 non-null float64\n",
      "Height    102459 non-null float64\n",
      "Weight    102459 non-null float64\n",
      "Team      102459 non-null object\n",
      "NOC       102459 non-null object\n",
      "Year      102459 non-null int64\n",
      "Season    102459 non-null object\n",
      "City      102459 non-null object\n",
      "Sport     102459 non-null object\n",
      "Event     102459 non-null object\n",
      "Medal     102459 non-null object\n",
      "Region    102459 non-null object\n",
      "dtypes: float64(3), int64(2), object(10)\n",
      "memory usage: 11.7+ MB\n"
     ]
    }
   ],
   "source": [
    "df.info()"
   ]
  },
  {
   "cell_type": "code",
   "execution_count": 3,
   "metadata": {},
   "outputs": [
    {
     "name": "stdout",
     "output_type": "stream",
     "text": [
      "[['M' 23.0 170.0 60.0 'CHN' 2012 'Summer' 'London' 'Judo'\n",
      "  \"Judo Men's Extra-Lightweight\"]\n",
      " ['M' 22.0 182.0 75.0 'CHN' 2000 'Summer' 'Sydney' 'Boxing'\n",
      "  \"Boxing Men's Middleweight\"]\n",
      " ['M' 25.0 160.0 62.0 'CHN' 2004 'Summer' 'Athina' 'Wrestling'\n",
      "  \"Wrestling Men's Lightweight, Greco-Roman\"]\n",
      " ['F' 14.0 168.0 54.0 'CHN' 2016 'Summer' 'Rio de Janeiro' 'Swimming'\n",
      "  \"Swimming Women's 200 metres Freestyle\"]\n",
      " ['F' 14.0 168.0 54.0 'CHN' 2016 'Summer' 'Rio de Janeiro' 'Swimming'\n",
      "  \"Swimming Women's 4 x 200 metres Freestyle Relay\"]\n",
      " ['M' 22.0 178.0 72.0 'CHN' 2006 'Winter' 'Torino' 'Speed Skating'\n",
      "  \"Speed Skating Men's 500 metres\"]\n",
      " ['M' 22.0 178.0 72.0 'CHN' 2006 'Winter' 'Torino' 'Speed Skating'\n",
      "  \"Speed Skating Men's 1,000 metres\"]\n",
      " ['M' 19.0 173.0 70.0 'CHN' 1998 'Winter' 'Nagano'\n",
      "  'Short Track Speed Skating'\n",
      "  \"Short Track Speed Skating Men's 500 metres\"]\n",
      " ['M' 19.0 173.0 70.0 'CHN' 1998 'Winter' 'Nagano'\n",
      "  'Short Track Speed Skating'\n",
      "  \"Short Track Speed Skating Men's 1,000 metres\"]\n",
      " ['M' 19.0 173.0 70.0 'CHN' 1998 'Winter' 'Nagano'\n",
      "  'Short Track Speed Skating'\n",
      "  \"Short Track Speed Skating Men's 5,000 metres Relay\"]]\n",
      "['None' 'None' 'None' 'None' 'None' 'None' 'None' 'Silver' 'None' 'Bronze']\n"
     ]
    }
   ],
   "source": [
    "x = df[['Sex', 'Age', 'Height', 'Weight', 'NOC', 'Year', 'Season', 'City', 'Sport', 'Event']].values\n",
    "y = df['Medal'].values\n",
    "print(x[:10])\n",
    "print(y[:10])"
   ]
  },
  {
   "cell_type": "code",
   "execution_count": 4,
   "metadata": {},
   "outputs": [
    {
     "name": "stdout",
     "output_type": "stream",
     "text": [
      "[[ 0.83898833 -0.4953247  -0.52765302 -0.72796508 -1.01252092  0.89861524\n",
      "  -0.51364747 -0.34157542  0.22550914  0.19195017]\n",
      " [ 0.83898833 -0.67930314  0.57327712  0.26199686 -1.01252092 -0.9144706\n",
      "  -0.51364747  1.28492807 -0.81955147 -0.87712193]\n",
      " [ 0.83898833 -0.12736781 -1.4450948  -0.59597015 -1.01252092 -0.31010866\n",
      "  -0.51364747 -1.31747751  1.85841635  1.81105211]\n",
      " [-1.19191169 -2.15113069 -0.71114137 -1.12394985 -1.01252092  1.50297719\n",
      "  -0.51364747  0.30902598  1.20525347  1.27651606]\n",
      " [-1.19191169 -2.15113069 -0.71114137 -1.12394985 -1.01252092  1.50297719\n",
      "  -0.51364747  0.30902598  1.20525347  1.30750366]\n",
      " [ 0.83898833 -0.67930314  0.20630041  0.06400447 -1.01252092 -0.00792768\n",
      "   1.94686056  1.61022877  1.13993718  1.02086839]\n",
      " [ 0.83898833 -0.67930314  0.20630041  0.06400447 -1.01252092 -0.00792768\n",
      "   1.94686056  1.61022877  1.13993718  0.98988079]\n",
      " [ 0.83898833 -1.23123847 -0.25242048 -0.06799045 -1.01252092 -1.21665158\n",
      "   1.94686056 -0.01627472  0.81335574  0.80395521]\n",
      " [ 0.83898833 -1.23123847 -0.25242048 -0.06799045 -1.01252092 -1.21665158\n",
      "   1.94686056 -0.01627472  0.81335574  0.78071451]\n",
      " [ 0.83898833 -1.23123847 -0.25242048 -0.06799045 -1.01252092 -1.21665158\n",
      "   1.94686056 -0.01627472  0.81335574  0.79620831]]\n",
      "[2 2 2 2 2 2 2 3 2 0]\n"
     ]
    },
    {
     "name": "stderr",
     "output_type": "stream",
     "text": [
      "/anaconda3/lib/python3.6/site-packages/sklearn/utils/validation.py:475: DataConversionWarning: Data with input dtype object was converted to float64 by StandardScaler.\n",
      "  warnings.warn(msg, DataConversionWarning)\n",
      "/anaconda3/lib/python3.6/site-packages/sklearn/utils/validation.py:475: DataConversionWarning: Data with input dtype object was converted to float64 by StandardScaler.\n",
      "  warnings.warn(msg, DataConversionWarning)\n"
     ]
    }
   ],
   "source": [
    "le_indices = [0, 4, 6, 7, 8, 9]\n",
    "std_indices = [1, 2, 3, 5]\n",
    "\n",
    "le = []\n",
    "for i in range(len(le_indices)):\n",
    "    le.append(LabelEncoder())\n",
    "    le[i].fit(x[:,le_indices[i]])\n",
    "    x[:,le_indices[i]] = le[i].transform(x[:,le_indices[i]])\n",
    "\n",
    "sc = StandardScaler()\n",
    "x_std = sc.fit_transform(x)\n",
    "\n",
    "ley = LabelEncoder()   \n",
    "y = ley.fit_transform(y)\n",
    "\n",
    "print(x_std[:10])\n",
    "print(y[:10])\n",
    "\n",
    "x_train, x_test, y_train, y_test = train_test_split(x_std, y, test_size=0.3)"
   ]
  },
  {
   "cell_type": "code",
   "execution_count": 5,
   "metadata": {},
   "outputs": [
    {
     "name": "stderr",
     "output_type": "stream",
     "text": [
      "/anaconda3/lib/python3.6/importlib/_bootstrap.py:219: RuntimeWarning: numpy.dtype size changed, may indicate binary incompatibility. Expected 96, got 88\n",
      "  return f(*args, **kwds)\n",
      "/anaconda3/lib/python3.6/site-packages/sklearn/ensemble/weight_boosting.py:29: DeprecationWarning: numpy.core.umath_tests is an internal NumPy module and should not be imported. It will be removed in a future NumPy release.\n",
      "  from numpy.core.umath_tests import inner1d\n"
     ]
    },
    {
     "name": "stdout",
     "output_type": "stream",
     "text": [
      "Accuracy:  0.862\n",
      "CPU times: user 3min, sys: 2.84 s, total: 3min 3s\n",
      "Wall time: 3min 3s\n"
     ]
    }
   ],
   "source": [
    "%%time\n",
    "\n",
    "from sklearn import model_selection\n",
    "from sklearn.ensemble import RandomForestClassifier\n",
    "\n",
    "kfold = model_selection.KFold(n_splits=10, random_state=7)\n",
    "model = RandomForestClassifier(n_estimators=100, max_features=6)\n",
    "results = model_selection.cross_val_score(model, x, y, cv=kfold)\n",
    "\n",
    "print('Accuracy: ', round(results.mean(),3))"
   ]
  },
  {
   "cell_type": "code",
   "execution_count": 6,
   "metadata": {},
   "outputs": [
    {
     "name": "stdout",
     "output_type": "stream",
     "text": [
      "Accuracy:  0.859\n",
      "CPU times: user 48.9 s, sys: 281 ms, total: 49.2 s\n",
      "Wall time: 49.5 s\n"
     ]
    }
   ],
   "source": [
    "%%time\n",
    "from sklearn.ensemble import AdaBoostClassifier\n",
    "\n",
    "kfold = model_selection.KFold(n_splits=10, random_state=7)\n",
    "model = AdaBoostClassifier(n_estimators=100, random_state=7)\n",
    "results = model_selection.cross_val_score(model, x, y, cv=kfold)\n",
    "\n",
    "print('Accuracy: ', round(results.mean(),3))"
   ]
  },
  {
   "cell_type": "code",
   "execution_count": 7,
   "metadata": {},
   "outputs": [
    {
     "name": "stdout",
     "output_type": "stream",
     "text": [
      "Accuracy:  0.86\n",
      "CPU times: user 4min 6s, sys: 4.94 s, total: 4min 11s\n",
      "Wall time: 4min 12s\n"
     ]
    }
   ],
   "source": [
    "%%time\n",
    "from sklearn.ensemble import GradientBoostingClassifier\n",
    "\n",
    "kfold = model_selection.KFold(n_splits=10, random_state=7)\n",
    "model = GradientBoostingClassifier(n_estimators=100, random_state=7)\n",
    "results = model_selection.cross_val_score(model, x, y, cv=kfold)\n",
    "\n",
    "print('Accuracy: ', round(results.mean(),3))"
   ]
  },
  {
   "cell_type": "code",
   "execution_count": 8,
   "metadata": {},
   "outputs": [
    {
     "name": "stdout",
     "output_type": "stream",
     "text": [
      "Accuracy:  0.862\n",
      "CPU times: user 11.7 s, sys: 39.9 ms, total: 11.8 s\n",
      "Wall time: 11.8 s\n"
     ]
    },
    {
     "name": "stderr",
     "output_type": "stream",
     "text": [
      "/anaconda3/lib/python3.6/site-packages/sklearn/preprocessing/label.py:151: DeprecationWarning: The truth value of an empty array is ambiguous. Returning False, but in future this will result in an error. Use `array.size > 0` to check that an array is not empty.\n",
      "  if diff:\n"
     ]
    }
   ],
   "source": [
    "%%time\n",
    "from xgboost import XGBClassifier\n",
    "\n",
    "model = XGBClassifier()\n",
    "model.fit(x_train,y_train)\n",
    "y_pred = model.predict(x_test)\n",
    "\n",
    "print('Accuracy: ', round(accuracy_score(y_test,y_pred), 3))"
   ]
  }
 ],
 "metadata": {
  "kernelspec": {
   "display_name": "Python 3",
   "language": "python",
   "name": "python3"
  },
  "language_info": {
   "codemirror_mode": {
    "name": "ipython",
    "version": 3
   },
   "file_extension": ".py",
   "mimetype": "text/x-python",
   "name": "python",
   "nbconvert_exporter": "python",
   "pygments_lexer": "ipython3",
   "version": "3.6.5"
  }
 },
 "nbformat": 4,
 "nbformat_minor": 2
}
