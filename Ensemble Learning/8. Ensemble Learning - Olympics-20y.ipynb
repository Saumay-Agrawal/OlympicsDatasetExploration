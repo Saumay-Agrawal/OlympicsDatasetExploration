{
 "cells": [
  {
   "cell_type": "code",
   "execution_count": 1,
   "metadata": {},
   "outputs": [
    {
     "name": "stderr",
     "output_type": "stream",
     "text": [
      "/anaconda3/lib/python3.6/importlib/_bootstrap.py:219: RuntimeWarning: numpy.dtype size changed, may indicate binary incompatibility. Expected 96, got 88\n",
      "  return f(*args, **kwds)\n",
      "/anaconda3/lib/python3.6/importlib/_bootstrap.py:219: RuntimeWarning: numpy.dtype size changed, may indicate binary incompatibility. Expected 96, got 88\n",
      "  return f(*args, **kwds)\n",
      "/anaconda3/lib/python3.6/importlib/_bootstrap.py:219: RuntimeWarning: numpy.dtype size changed, may indicate binary incompatibility. Expected 96, got 88\n",
      "  return f(*args, **kwds)\n",
      "/anaconda3/lib/python3.6/importlib/_bootstrap.py:219: RuntimeWarning: numpy.dtype size changed, may indicate binary incompatibility. Expected 96, got 88\n",
      "  return f(*args, **kwds)\n",
      "/anaconda3/lib/python3.6/importlib/_bootstrap.py:219: RuntimeWarning: numpy.dtype size changed, may indicate binary incompatibility. Expected 96, got 88\n",
      "  return f(*args, **kwds)\n",
      "/anaconda3/lib/python3.6/importlib/_bootstrap.py:219: RuntimeWarning: numpy.dtype size changed, may indicate binary incompatibility. Expected 96, got 88\n",
      "  return f(*args, **kwds)\n"
     ]
    }
   ],
   "source": [
    "import numpy as np\n",
    "import pandas as pd\n",
    "import matplotlib.pyplot as plt\n",
    "from matplotlib.colors import ListedColormap\n",
    "import warnings\n",
    "%matplotlib inline\n",
    "import seaborn as sb\n",
    "\n",
    "from sklearn.preprocessing import StandardScaler\n",
    "from sklearn.preprocessing import LabelEncoder\n",
    "from sklearn.model_selection import train_test_split\n",
    "from sklearn.metrics import accuracy_score"
   ]
  },
  {
   "cell_type": "code",
   "execution_count": 2,
   "metadata": {},
   "outputs": [
    {
     "data": {
      "text/html": [
       "<div>\n",
       "<style scoped>\n",
       "    .dataframe tbody tr th:only-of-type {\n",
       "        vertical-align: middle;\n",
       "    }\n",
       "\n",
       "    .dataframe tbody tr th {\n",
       "        vertical-align: top;\n",
       "    }\n",
       "\n",
       "    .dataframe thead th {\n",
       "        text-align: right;\n",
       "    }\n",
       "</style>\n",
       "<table border=\"1\" class=\"dataframe\">\n",
       "  <thead>\n",
       "    <tr style=\"text-align: right;\">\n",
       "      <th></th>\n",
       "      <th>ID</th>\n",
       "      <th>Name</th>\n",
       "      <th>Sex</th>\n",
       "      <th>Age</th>\n",
       "      <th>Height</th>\n",
       "      <th>Weight</th>\n",
       "      <th>Team</th>\n",
       "      <th>NOC</th>\n",
       "      <th>Year</th>\n",
       "      <th>Season</th>\n",
       "      <th>City</th>\n",
       "      <th>Sport</th>\n",
       "      <th>Event</th>\n",
       "      <th>Medal</th>\n",
       "      <th>Region</th>\n",
       "    </tr>\n",
       "  </thead>\n",
       "  <tbody>\n",
       "    <tr>\n",
       "      <th>0</th>\n",
       "      <td>2</td>\n",
       "      <td>A Lamusi</td>\n",
       "      <td>M</td>\n",
       "      <td>23.0</td>\n",
       "      <td>170.0</td>\n",
       "      <td>60.0</td>\n",
       "      <td>China</td>\n",
       "      <td>CHN</td>\n",
       "      <td>2012</td>\n",
       "      <td>Summer</td>\n",
       "      <td>London</td>\n",
       "      <td>Judo</td>\n",
       "      <td>Judo Men's Extra-Lightweight</td>\n",
       "      <td>None</td>\n",
       "      <td>China</td>\n",
       "    </tr>\n",
       "    <tr>\n",
       "      <th>1</th>\n",
       "      <td>1464</td>\n",
       "      <td>Ai Yanhan</td>\n",
       "      <td>F</td>\n",
       "      <td>14.0</td>\n",
       "      <td>168.0</td>\n",
       "      <td>54.0</td>\n",
       "      <td>China</td>\n",
       "      <td>CHN</td>\n",
       "      <td>2016</td>\n",
       "      <td>Summer</td>\n",
       "      <td>Rio de Janeiro</td>\n",
       "      <td>Swimming</td>\n",
       "      <td>Swimming Women's 200 metres Freestyle</td>\n",
       "      <td>None</td>\n",
       "      <td>China</td>\n",
       "    </tr>\n",
       "    <tr>\n",
       "      <th>2</th>\n",
       "      <td>1464</td>\n",
       "      <td>Ai Yanhan</td>\n",
       "      <td>F</td>\n",
       "      <td>14.0</td>\n",
       "      <td>168.0</td>\n",
       "      <td>54.0</td>\n",
       "      <td>China</td>\n",
       "      <td>CHN</td>\n",
       "      <td>2016</td>\n",
       "      <td>Summer</td>\n",
       "      <td>Rio de Janeiro</td>\n",
       "      <td>Swimming</td>\n",
       "      <td>Swimming Women's 4 x 200 metres Freestyle Relay</td>\n",
       "      <td>None</td>\n",
       "      <td>China</td>\n",
       "    </tr>\n",
       "    <tr>\n",
       "      <th>3</th>\n",
       "      <td>4639</td>\n",
       "      <td>Ao Changrong</td>\n",
       "      <td>M</td>\n",
       "      <td>25.0</td>\n",
       "      <td>173.0</td>\n",
       "      <td>71.0</td>\n",
       "      <td>China</td>\n",
       "      <td>CHN</td>\n",
       "      <td>2008</td>\n",
       "      <td>Summer</td>\n",
       "      <td>Beijing</td>\n",
       "      <td>Hockey</td>\n",
       "      <td>Hockey Men's Hockey</td>\n",
       "      <td>None</td>\n",
       "      <td>China</td>\n",
       "    </tr>\n",
       "    <tr>\n",
       "      <th>4</th>\n",
       "      <td>6376</td>\n",
       "      <td>Ba Dexin</td>\n",
       "      <td>M</td>\n",
       "      <td>23.0</td>\n",
       "      <td>185.0</td>\n",
       "      <td>80.0</td>\n",
       "      <td>China</td>\n",
       "      <td>CHN</td>\n",
       "      <td>2014</td>\n",
       "      <td>Winter</td>\n",
       "      <td>Sochi</td>\n",
       "      <td>Curling</td>\n",
       "      <td>Curling Men's Curling</td>\n",
       "      <td>None</td>\n",
       "      <td>China</td>\n",
       "    </tr>\n",
       "  </tbody>\n",
       "</table>\n",
       "</div>"
      ],
      "text/plain": [
       "     ID          Name Sex   Age  Height  Weight   Team  NOC  Year  Season  \\\n",
       "0     2      A Lamusi   M  23.0   170.0    60.0  China  CHN  2012  Summer   \n",
       "1  1464     Ai Yanhan   F  14.0   168.0    54.0  China  CHN  2016  Summer   \n",
       "2  1464     Ai Yanhan   F  14.0   168.0    54.0  China  CHN  2016  Summer   \n",
       "3  4639  Ao Changrong   M  25.0   173.0    71.0  China  CHN  2008  Summer   \n",
       "4  6376      Ba Dexin   M  23.0   185.0    80.0  China  CHN  2014  Winter   \n",
       "\n",
       "             City     Sport                                            Event  \\\n",
       "0          London      Judo                     Judo Men's Extra-Lightweight   \n",
       "1  Rio de Janeiro  Swimming            Swimming Women's 200 metres Freestyle   \n",
       "2  Rio de Janeiro  Swimming  Swimming Women's 4 x 200 metres Freestyle Relay   \n",
       "3         Beijing    Hockey                              Hockey Men's Hockey   \n",
       "4           Sochi   Curling                            Curling Men's Curling   \n",
       "\n",
       "  Medal Region  \n",
       "0  None  China  \n",
       "1  None  China  \n",
       "2  None  China  \n",
       "3  None  China  \n",
       "4  None  China  "
      ]
     },
     "execution_count": 2,
     "metadata": {},
     "output_type": "execute_result"
    }
   ],
   "source": [
    "df = pd.read_csv('prepd-data-20y.csv')\n",
    "df.drop('Unnamed: 0', axis=1, inplace=True)\n",
    "df.head()"
   ]
  },
  {
   "cell_type": "code",
   "execution_count": 9,
   "metadata": {},
   "outputs": [
    {
     "name": "stdout",
     "output_type": "stream",
     "text": [
      "<class 'pandas.core.frame.DataFrame'>\n",
      "RangeIndex: 49399 entries, 0 to 49398\n",
      "Data columns (total 15 columns):\n",
      "ID        49399 non-null int64\n",
      "Name      49399 non-null object\n",
      "Sex       49399 non-null object\n",
      "Age       49399 non-null float64\n",
      "Height    49399 non-null float64\n",
      "Weight    49399 non-null float64\n",
      "Team      49399 non-null object\n",
      "NOC       49399 non-null object\n",
      "Year      49399 non-null int64\n",
      "Season    49399 non-null object\n",
      "City      49399 non-null object\n",
      "Sport     49399 non-null object\n",
      "Event     49399 non-null object\n",
      "Medal     49399 non-null object\n",
      "Region    49399 non-null object\n",
      "dtypes: float64(3), int64(2), object(10)\n",
      "memory usage: 5.7+ MB\n"
     ]
    }
   ],
   "source": [
    "df.info()"
   ]
  },
  {
   "cell_type": "code",
   "execution_count": 3,
   "metadata": {},
   "outputs": [
    {
     "name": "stdout",
     "output_type": "stream",
     "text": [
      "[['M' 23.0 170.0 60.0 'CHN' 2012 'Summer' 'London' 'Judo'\n",
      "  \"Judo Men's Extra-Lightweight\"]\n",
      " ['F' 14.0 168.0 54.0 'CHN' 2016 'Summer' 'Rio de Janeiro' 'Swimming'\n",
      "  \"Swimming Women's 200 metres Freestyle\"]\n",
      " ['F' 14.0 168.0 54.0 'CHN' 2016 'Summer' 'Rio de Janeiro' 'Swimming'\n",
      "  \"Swimming Women's 4 x 200 metres Freestyle Relay\"]\n",
      " ['M' 25.0 173.0 71.0 'CHN' 2008 'Summer' 'Beijing' 'Hockey'\n",
      "  \"Hockey Men's Hockey\"]\n",
      " ['M' 23.0 185.0 80.0 'CHN' 2014 'Winter' 'Sochi' 'Curling'\n",
      "  \"Curling Men's Curling\"]\n",
      " ['F' 19.0 164.0 59.0 'CHN' 2012 'Summer' 'London' 'Swimming'\n",
      "  \"Swimming Women's 200 metres Backstroke\"]\n",
      " ['M' 26.0 173.0 66.0 'CHN' 2012 'Summer' 'London' 'Triathlon'\n",
      "  \"Triathlon Men's Olympic Distance\"]\n",
      " ['M' 30.0 173.0 66.0 'CHN' 2016 'Summer' 'Rio de Janeiro' 'Triathlon'\n",
      "  \"Triathlon Men's Olympic Distance\"]\n",
      " ['M' 19.0 173.0 70.0 'CHN' 2014 'Winter' 'Sochi' 'Speed Skating'\n",
      "  \"Speed Skating Men's 500 metres\"]\n",
      " ['F' 19.0 165.0 53.0 'CHN' 2008 'Summer' 'Beijing' 'Athletics'\n",
      "  \"Athletics Women's 10,000 metres\"]]\n",
      "['None' 'None' 'None' 'None' 'None' 'None' 'None' 'None' 'None' 'None']\n"
     ]
    }
   ],
   "source": [
    "x = df[['Sex', 'Age', 'Height', 'Weight', 'NOC', 'Year', 'Season', 'City', 'Sport', 'Event']].values\n",
    "y = df['Medal'].values\n",
    "print(x[:10])\n",
    "print(y[:10])"
   ]
  },
  {
   "cell_type": "code",
   "execution_count": 4,
   "metadata": {},
   "outputs": [
    {
     "name": "stdout",
     "output_type": "stream",
     "text": [
      "[[ 8.83548237e-01 -5.41633996e-01 -5.36952000e-01 -7.27638710e-01\n",
      "  -1.00312264e+00 -8.75608274e-03 -4.81363652e-01 -3.77583931e-01\n",
      "   2.04266259e-01  1.72896428e-01]\n",
      " [-1.13180012e+00 -2.17247262e+00 -7.18761771e-01 -1.12091655e+00\n",
      "  -1.00312264e+00  1.28434326e+00 -4.81363652e-01  4.30643324e-01\n",
      "   1.17628716e+00  1.25778422e+00]\n",
      " [-1.13180012e+00 -2.17247262e+00 -7.18761771e-01 -1.12091655e+00\n",
      "  -1.00312264e+00  1.28434326e+00 -4.81363652e-01  4.30643324e-01\n",
      "   1.17628716e+00  1.29065961e+00]\n",
      " [ 8.83548237e-01 -1.79225413e-01 -2.64237343e-01 -6.62933586e-03\n",
      "  -1.00312264e+00 -1.30185543e+00 -4.81363652e-01 -1.18581119e+00\n",
      "   7.46634728e-02  1.40021041e-01]\n",
      " [ 8.83548237e-01 -5.41633996e-01  8.26621284e-01  5.83287425e-01\n",
      "  -1.00312264e+00  6.37793590e-01  2.07743147e+00  1.23887058e+00\n",
      "  -6.38151852e-01 -5.66799795e-01]\n",
      " [-1.13180012e+00 -1.26645116e+00 -1.08238131e+00 -7.93185017e-01\n",
      "  -1.00312264e+00 -8.75608274e-03 -4.81363652e-01 -3.77583931e-01\n",
      "   1.17628716e+00  1.23312768e+00]\n",
      " [ 8.83548237e-01  1.97887926e-03 -2.64237343e-01 -3.34360870e-01\n",
      "  -1.00312264e+00 -8.75608274e-03 -4.81363652e-01 -3.77583931e-01\n",
      "   1.56509551e+00  1.50434963e+00]\n",
      " [ 8.83548237e-01  7.26796047e-01 -2.64237343e-01 -3.34360870e-01\n",
      "  -1.00312264e+00  1.28434326e+00 -4.81363652e-01  4.30643324e-01\n",
      "   1.56509551e+00  1.50434963e+00]\n",
      " [ 8.83548237e-01 -1.26645116e+00 -2.64237343e-01 -7.21756426e-02\n",
      "  -1.00312264e+00  6.37793590e-01  2.07743147e+00  1.23887058e+00\n",
      "   1.11148576e+00  9.86562274e-01]\n",
      " [-1.13180012e+00 -1.26645116e+00 -9.91476427e-01 -1.18646286e+00\n",
      "  -1.00312264e+00 -1.30185543e+00 -4.81363652e-01 -1.18581119e+00\n",
      "  -1.28616578e+00 -1.32293371e+00]]\n",
      "[2 2 2 2 2 2 2 2 2 2]\n"
     ]
    },
    {
     "name": "stderr",
     "output_type": "stream",
     "text": [
      "/anaconda3/lib/python3.6/site-packages/sklearn/utils/validation.py:475: DataConversionWarning: Data with input dtype object was converted to float64 by StandardScaler.\n",
      "  warnings.warn(msg, DataConversionWarning)\n",
      "/anaconda3/lib/python3.6/site-packages/sklearn/utils/validation.py:475: DataConversionWarning: Data with input dtype object was converted to float64 by StandardScaler.\n",
      "  warnings.warn(msg, DataConversionWarning)\n"
     ]
    }
   ],
   "source": [
    "le_indices = [0, 4, 6, 7, 8, 9]\n",
    "std_indices = [1, 2, 3, 5]\n",
    "\n",
    "le = []\n",
    "for i in range(len(le_indices)):\n",
    "    le.append(LabelEncoder())\n",
    "    le[i].fit(x[:,le_indices[i]])\n",
    "    x[:,le_indices[i]] = le[i].transform(x[:,le_indices[i]])\n",
    "\n",
    "sc = StandardScaler()\n",
    "x_std = sc.fit_transform(x)\n",
    "\n",
    "ley = LabelEncoder()   \n",
    "y = ley.fit_transform(y)\n",
    "\n",
    "print(x_std[:10])\n",
    "print(y[:10])\n",
    "\n",
    "x_train, x_test, y_train, y_test = train_test_split(x_std, y, test_size=0.3)"
   ]
  },
  {
   "cell_type": "code",
   "execution_count": 5,
   "metadata": {},
   "outputs": [
    {
     "name": "stderr",
     "output_type": "stream",
     "text": [
      "/anaconda3/lib/python3.6/importlib/_bootstrap.py:219: RuntimeWarning: numpy.dtype size changed, may indicate binary incompatibility. Expected 96, got 88\n",
      "  return f(*args, **kwds)\n",
      "/anaconda3/lib/python3.6/site-packages/sklearn/ensemble/weight_boosting.py:29: DeprecationWarning: numpy.core.umath_tests is an internal NumPy module and should not be imported. It will be removed in a future NumPy release.\n",
      "  from numpy.core.umath_tests import inner1d\n"
     ]
    },
    {
     "name": "stdout",
     "output_type": "stream",
     "text": [
      "Accuracy:  0.853\n",
      "CPU times: user 1min 17s, sys: 1.36 s, total: 1min 18s\n",
      "Wall time: 1min 19s\n"
     ]
    }
   ],
   "source": [
    "%%time\n",
    "\n",
    "from sklearn import model_selection\n",
    "from sklearn.ensemble import RandomForestClassifier\n",
    "\n",
    "kfold = model_selection.KFold(n_splits=10, random_state=7)\n",
    "model = RandomForestClassifier(n_estimators=100, max_features=6)\n",
    "results = model_selection.cross_val_score(model, x, y, cv=kfold)\n",
    "\n",
    "print('Accuracy: ', round(results.mean(),3))"
   ]
  },
  {
   "cell_type": "code",
   "execution_count": 6,
   "metadata": {},
   "outputs": [
    {
     "name": "stdout",
     "output_type": "stream",
     "text": [
      "Accuracy:  0.856\n",
      "CPU times: user 22.5 s, sys: 289 ms, total: 22.8 s\n",
      "Wall time: 23 s\n"
     ]
    }
   ],
   "source": [
    "%%time\n",
    "from sklearn.ensemble import AdaBoostClassifier\n",
    "\n",
    "kfold = model_selection.KFold(n_splits=10, random_state=7)\n",
    "model = AdaBoostClassifier(n_estimators=100, random_state=7)\n",
    "results = model_selection.cross_val_score(model, x, y, cv=kfold)\n",
    "\n",
    "print('Accuracy: ', round(results.mean(),3))"
   ]
  },
  {
   "cell_type": "code",
   "execution_count": 7,
   "metadata": {},
   "outputs": [
    {
     "name": "stdout",
     "output_type": "stream",
     "text": [
      "Accuracy:  0.856\n",
      "CPU times: user 1min 31s, sys: 983 ms, total: 1min 32s\n",
      "Wall time: 1min 32s\n"
     ]
    }
   ],
   "source": [
    "%%time\n",
    "from sklearn.ensemble import GradientBoostingClassifier\n",
    "\n",
    "kfold = model_selection.KFold(n_splits=10, random_state=7)\n",
    "model = GradientBoostingClassifier(n_estimators=100, random_state=7)\n",
    "results = model_selection.cross_val_score(model, x, y, cv=kfold)\n",
    "\n",
    "print('Accuracy: ', round(results.mean(),3))"
   ]
  },
  {
   "cell_type": "code",
   "execution_count": 8,
   "metadata": {},
   "outputs": [
    {
     "name": "stdout",
     "output_type": "stream",
     "text": [
      "Accuracy:  0.855\n",
      "CPU times: user 4.98 s, sys: 14.5 ms, total: 4.99 s\n",
      "Wall time: 5 s\n"
     ]
    },
    {
     "name": "stderr",
     "output_type": "stream",
     "text": [
      "/anaconda3/lib/python3.6/site-packages/sklearn/preprocessing/label.py:151: DeprecationWarning: The truth value of an empty array is ambiguous. Returning False, but in future this will result in an error. Use `array.size > 0` to check that an array is not empty.\n",
      "  if diff:\n"
     ]
    }
   ],
   "source": [
    "%%time\n",
    "from xgboost import XGBClassifier\n",
    "\n",
    "model = XGBClassifier()\n",
    "model.fit(x_train,y_train)\n",
    "y_pred = model.predict(x_test)\n",
    "\n",
    "print('Accuracy: ', round(accuracy_score(y_test,y_pred), 3))"
   ]
  }
 ],
 "metadata": {
  "kernelspec": {
   "display_name": "Python 3",
   "language": "python",
   "name": "python3"
  },
  "language_info": {
   "codemirror_mode": {
    "name": "ipython",
    "version": 3
   },
   "file_extension": ".py",
   "mimetype": "text/x-python",
   "name": "python",
   "nbconvert_exporter": "python",
   "pygments_lexer": "ipython3",
   "version": "3.6.5"
  }
 },
 "nbformat": 4,
 "nbformat_minor": 2
}
